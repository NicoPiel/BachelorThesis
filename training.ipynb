{
 "cells": [
  {
   "cell_type": "code",
   "execution_count": 2,
   "id": "840f1a55-6e23-4e19-b78e-732c782ef318",
   "metadata": {
    "pycharm": {
     "name": "#%%\n"
    }
   },
   "outputs": [
    {
     "name": "stderr",
     "output_type": "stream",
     "text": [
      "/home/caigh/miniconda3/envs/mm/lib/python3.9/site-packages/tqdm/auto.py:22: TqdmWarning: IProgress not found. Please update jupyter and ipywidgets. See https://ipywidgets.readthedocs.io/en/stable/user_install.html\n",
      "  from .autonotebook import tqdm as notebook_tqdm\n",
      "/tmp/ipykernel_18399/1334366771.py:40: DeprecationWarning: `set_matplotlib_formats` is deprecated since IPython 7.23, directly use `matplotlib_inline.backend_inline.set_matplotlib_formats()`\n",
      "  set_matplotlib_formats(\"svg\", \"pdf\")  # For export\n",
      "Global seed set to 42\n"
     ]
    },
    {
     "name": "stdout",
     "output_type": "stream",
     "text": [
      "CUDA: False\n",
      "Device: cpu\n"
     ]
    }
   ],
   "source": [
    "# Imports\n",
    "\n",
    "import os\n",
    "\n",
    "import matplotlib.pyplot as plt\n",
    "import matplotlib\n",
    "\n",
    "# PyTorch Lightning\n",
    "import pytorch_lightning as pl\n",
    "import seaborn as sns\n",
    "\n",
    "# PyTorch\n",
    "import torch\n",
    "import torch.nn as nn\n",
    "import torch.nn.functional as F\n",
    "import torch.optim as optim\n",
    "import torch.utils.data as data\n",
    "\n",
    "from tqdm.notebook import tqdm\n",
    "from IPython.display import set_matplotlib_formats\n",
    "from pytorch_lightning.callbacks import ModelCheckpoint\n",
    "\n",
    "# Import GPU-related things\n",
    "if torch.cuda.is_available():\n",
    "    import cupy as np\n",
    "    import cudf as pd\n",
    "    \n",
    "    # Ensure that all operations are deterministic on GPU (if used) for reproducibility\n",
    "    torch.backends.cudnn.determinstic = True\n",
    "    torch.backends.cudnn.benchmark = False\n",
    "else:\n",
    "    import numpy as np\n",
    "    import pandas as pd\n",
    "    \n",
    "device = torch.device(\"cuda:0\") if torch.cuda.is_available() else torch.device(\"cpu\")\n",
    "\n",
    "# Plotting\n",
    "plt.set_cmap(\"cividis\")\n",
    "%matplotlib inline\n",
    "set_matplotlib_formats(\"svg\", \"pdf\")  # For export\n",
    "matplotlib.rcParams[\"lines.linewidth\"] = 2.0\n",
    "sns.reset_orig()\n",
    "\n",
    "# Path to the folder where the datasets are/should be downloaded (e.g. CIFAR10)\n",
    "DATASET_PATH = os.environ.get(\"PATH_DATASETS\", \"data/\")\n",
    "# Path to the folder where the pretrained models are saved\n",
    "CHECKPOINT_PATH = os.environ.get(\"PATH_CHECKPOINT\", \"saved_models/\")\n",
    "\n",
    "# Setting the seed\n",
    "pl.seed_everything(42)\n",
    "\n",
    "print('CUDA:', torch.cuda.is_available())\n",
    "print(\"Device:\", device)"
   ]
  },
  {
   "cell_type": "code",
   "execution_count": 8,
   "id": "10861759-61e4-441a-8bda-2124cc474a18",
   "metadata": {
    "pycharm": {
     "name": "#%%\n"
    }
   },
   "outputs": [
    {
     "name": "stdout",
     "output_type": "stream",
     "text": [
      "--2022-05-25 09:25:45--  https://hochschulebonnrheinsieg-my.sharepoint.com/:u:/g/personal/nico_piel_365h-brs_de1/ESuGOTn_IflEk7I5HkOFpbwBZKeOk9Qf2nL5JEcq2om6_Q?e=sHYsTk&download=1\n",
      "Resolving hochschulebonnrheinsieg-my.sharepoint.com (hochschulebonnrheinsieg-my.sharepoint.com)... 13.107.136.9, 13.107.138.9\n",
      "Connecting to hochschulebonnrheinsieg-my.sharepoint.com (hochschulebonnrheinsieg-my.sharepoint.com)|13.107.136.9|:443... connected.\n",
      "HTTP request sent, awaiting response... 302 Found\n",
      "Location: /personal/nico_piel_365h-brs_de1/Documents/Uni/Bachelor/data.zip?ga=1 [following]\n",
      "--2022-05-25 09:25:45--  https://hochschulebonnrheinsieg-my.sharepoint.com/personal/nico_piel_365h-brs_de1/Documents/Uni/Bachelor/data.zip?ga=1\n",
      "Reusing existing connection to hochschulebonnrheinsieg-my.sharepoint.com:443.\n",
      "HTTP request sent, awaiting response... 200 OK\n",
      "Length: 47705176 (45M) [application/x-zip-compressed]\n",
      "Saving to: ‘data.zip’\n",
      "\n",
      "data.zip            100%[===================>]  45.50M  22.7MB/s    in 2.0s    \n",
      "\n",
      "2022-05-25 09:25:48 (22.7 MB/s) - ‘data.zip’ saved [47705176/47705176]\n",
      "\n",
      "Archive:  data.zip\n",
      "  inflating: data/data.csv           \n"
     ]
    }
   ],
   "source": [
    "files = [\n",
    "    'data.csv',\n",
    "    'edrug3d.sdf',\n",
    "    'qm9-1.sdf',\n",
    "    'qm9-2.sdf',\n",
    "    'qm9-3.sdf',\n",
    "    'qm9-4.sdf',\n",
    "    'qm9-5.sdf',\n",
    "    'qm9-6.sdf',\n",
    "    'qm9-7.sdf',\n",
    "    'qm9-8.sdf'\n",
    "]\n",
    "\n",
    "\n",
    "def check_missing_files():\n",
    "    \"\"\"Checks for missing files. Returns true, if all files are present.\"\"\"\n",
    "    for file in files:\n",
    "        if not os.path.exists('./data/' + file):\n",
    "            return False\n",
    "\n",
    "    return True\n",
    "\n",
    "if not check_missing_files():\n",
    "    !wget -nc -O data.zip \"https://hochschulebonnrheinsieg-my.sharepoint.com/:u:/g/personal/nico_piel_365h-brs_de1/ESuGOTn_IflEk7I5HkOFpbwBZKeOk9Qf2nL5JEcq2om6_Q?e=sHYsTk&download=1\"\n",
    "    !unzip -u data.zip\n",
    "    !rm data.zip"
   ]
  },
  {
   "cell_type": "code",
   "execution_count": 9,
   "id": "11a632cd-df69-435b-8323-73165083753d",
   "metadata": {
    "pycharm": {
     "name": "#%%\n"
    }
   },
   "outputs": [],
   "source": [
    "class CustomDataset(data.Dataset):\n",
    "    def __init__(self, path):\n",
    "        super().__init__()\n",
    "        self.data = pd.read_csv(path)\n",
    "\n",
    "    def __len__(self):\n",
    "        return self.data.shape[0]\n",
    "\n",
    "    def __getitem__(self, idx):\n",
    "        series = self.data.iloc[idx]\n",
    "        return series[0], series[1]"
   ]
  },
  {
   "cell_type": "code",
   "execution_count": 10,
   "id": "1e711ee0-04e9-40a5-83a0-3a0b8fdd3a17",
   "metadata": {
    "pycharm": {
     "name": "#%%\n"
    }
   },
   "outputs": [],
   "source": [
    "dataset = CustomDataset('./data/data.csv')\n",
    "dataloader = data.DataLoader(dataset, batch_size=64, shuffle=True)"
   ]
  },
  {
   "cell_type": "code",
   "execution_count": 11,
   "id": "168a512d-b15d-4c3d-bb69-3424c40b843e",
   "metadata": {
    "pycharm": {
     "name": "#%%\n"
    }
   },
   "outputs": [],
   "source": [
    "class DataModule(pl.LightningDataModule):\n",
    "    def __init__(self):\n",
    "        self.train_dataset = CustomDataset('./data/data.csv')\n",
    "        self.val_dataset_1 = CustomDataset('./data/data.csv')\n",
    "        self.val_dataset_2 = CustomDataset('./data/data.csv')\n",
    "        self.test_dataset = CustomDataset('./data/data.csv')\n",
    "        self.predict_dataset = CustomDataset('./data/data.csv')\n",
    "\n",
    "    def train_dataloader(self):\n",
    "        return data.DataLoader(self.train_dataset, batch_size=64, shuffle=True)\n",
    "\n",
    "    def val_dataloader(self):\n",
    "        return data.DataLoader(self.val_dataset_1)\n",
    "\n",
    "    def test_dataloader(self):\n",
    "        return data.DataLoader(self.test_dataset)\n",
    "\n",
    "    def predict_dataloader(self):\n",
    "        return data.DataLoader(self.predict_dataset)"
   ]
  },
  {
   "cell_type": "code",
   "execution_count": null,
   "id": "f7d073d5-56d0-4391-b9ce-6f4e00461e7d",
   "metadata": {},
   "outputs": [],
   "source": [
    "class ATTransformer(pl.LightningModule):\n",
    "    def __init__():\n",
    "        super().__init__()\n",
    "        self.save_hyperparameters()\n",
    "        self._create_model()\n",
    "\n",
    "    def _create_model(self):\n",
    "        raise NotImplementedError\n",
    "\n",
    "    def forward(self, X):\n"
   ]
  }
 ],
 "metadata": {
  "kernelspec": {
   "display_name": "Python 3 (ipykernel)",
   "language": "python",
   "name": "python3"
  },
  "language_info": {
   "codemirror_mode": {
    "name": "ipython",
    "version": 3
   },
   "file_extension": ".py",
   "mimetype": "text/x-python",
   "name": "python",
   "nbconvert_exporter": "python",
   "pygments_lexer": "ipython3",
   "version": "3.9.12"
  }
 },
 "nbformat": 4,
 "nbformat_minor": 5
}
