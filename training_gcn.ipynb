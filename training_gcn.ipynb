{
 "cells": [
  {
   "cell_type": "code",
   "execution_count": 1,
   "id": "840f1a55-6e23-4e19-b78e-732c782ef318",
   "metadata": {
    "pycharm": {
     "name": "#%%\n"
    }
   },
   "outputs": [
    {
     "name": "stdout",
     "output_type": "stream",
     "text": [
      "CUDA: True\n",
      "Device: cuda:0\n"
     ]
    }
   ],
   "source": [
    "# Imports\n",
    "\n",
    "import os\n",
    "import re\n",
    "from argparse import ArgumentParser\n",
    "from glob import glob\n",
    "\n",
    "import numpy as np\n",
    "import pandas as pd\n",
    "\n",
    "from sklearn.model_selection import train_test_split\n",
    "\n",
    "import torch\n",
    "import torch.nn as nn\n",
    "import torch.nn.functional as F\n",
    "import torch.optim as optim\n",
    "import torch.utils.data as data\n",
    "import torch_geometric as pyg\n",
    "from torch_geometric.nn import GCNConv\n",
    "\n",
    "import pytorch_lightning as pl\n",
    "\n",
    "import dgl\n",
    "\n",
    "DEVICE = torch.device(\"cpu\")\n",
    "\n",
    "# Import GPU-related things\n",
    "if torch.cuda.is_available():\n",
    "    # import cupy as np\n",
    "    # import cudf as pd\n",
    "\n",
    "    # Ensure that all operations are deterministic on GPU (if used) for reproducibility\n",
    "    torch.backends.cudnn.determinstic = True\n",
    "    torch.backends.cudnn.benchmark = False\n",
    "\n",
    "    DEVICE = torch.device(\"cuda:0\")\n",
    "# else:\n",
    "\n",
    "# Path to the folder where the datasets are/should be downloaded (e.g. CIFAR10)\n",
    "DATASET_PATH = os.environ.get(\"PATH_DATASETS\", \"data/\")\n",
    "# Path to the folder where the pretrained models are saved\n",
    "CHECKPOINT_PATH = os.environ.get(\"PATH_CHECKPOINT\", \"saved_models/\")\n",
    "\n",
    "print('CUDA:', torch.cuda.is_available())\n",
    "print(\"Device:\", DEVICE)\n",
    "\n",
    "temp_path = './temp'\n",
    "data_path = './data'\n",
    "\n",
    "if not os.path.exists(temp_path):\n",
    "    os.mkdir(temp_path)"
   ]
  },
  {
   "cell_type": "code",
   "execution_count": 2,
   "id": "a245efbf-93d3-4502-9142-8ce1c2d9b1ef",
   "metadata": {},
   "outputs": [
    {
     "name": "stdout",
     "output_type": "stream",
     "text": [
      "total xyz filepath #  133885\n"
     ]
    },
    {
     "data": {
      "text/plain": [
       "'./data/dsgdb9nsd_000001.xyz'"
      ]
     },
     "execution_count": 2,
     "metadata": {},
     "output_type": "execute_result"
    }
   ],
   "source": [
    "xyz_filepath_list = list(glob(f'{data_path}/*.xyz'))\n",
    "\n",
    "xyz_filepath_list.sort()\n",
    "print('total xyz filepath # ', len(xyz_filepath_list))\n",
    "xyz_filepath_list[0]"
   ]
  },
  {
   "cell_type": "code",
   "execution_count": 3,
   "id": "89c31f7a-106a-4ba0-ac38-1052c47a61cb",
   "metadata": {},
   "outputs": [],
   "source": [
    "def in_ipython():\n",
    "    try:\n",
    "        return __IPYTHON__\n",
    "    except NameError:\n",
    "        return False"
   ]
  },
  {
   "cell_type": "code",
   "execution_count": 4,
   "id": "cddf1831-515b-457b-a450-04fe9efb6ebc",
   "metadata": {},
   "outputs": [
    {
     "name": "stdout",
     "output_type": "stream",
     "text": [
      "Done loading data from cached files.\n"
     ]
    }
   ],
   "source": [
    "dataset_dgl = dgl.data.CSVDataset('./graph_data')\n",
    "dgl.data.utils.add_nodepred_split(dataset_dgl, [0.8, 0.1, 0.1])\n",
    "dataset_batched = dgl.batch(dataset_dgl)"
   ]
  },
  {
   "cell_type": "code",
   "execution_count": null,
   "id": "bfa525d3-7078-4f29-b2e1-b42b0100f57f",
   "metadata": {},
   "outputs": [],
   "source": [
    "dataset_nx = dgl.to_networkx(\n",
    "    dataset_batched,\n",
    "    node_attrs=[\n",
    "        'label',\n",
    "        'type',\n",
    "        'depDeg',\n",
    "        'forC',\n",
    "        'isA',\n",
    "        'radEl',\n",
    "        'totDeg',\n",
    "        'totH',\n",
    "        'totV',\n",
    "        'isR',\n",
    "        'train_mask',\n",
    "        'test_mask',\n",
    "        'val_mask'\n",
    "    ],\n",
    "    edge_attrs=[\n",
    "        'label',\n",
    "        'bond_type'\n",
    "    ]\n",
    ")\n",
    "\n",
    "dataset_nx"
   ]
  },
  {
   "cell_type": "code",
   "execution_count": null,
   "id": "593b7139-b43b-4cb6-80ef-2deb455706d0",
   "metadata": {},
   "outputs": [],
   "source": [
    "dataset = pyg.utils.from_networkx(\n",
    "    dataset_nx,\n",
    "    group_node_attrs=[\n",
    "        'label',\n",
    "        'type',\n",
    "        'depDeg',\n",
    "        'forC',\n",
    "        'isA',\n",
    "        'radEl',\n",
    "        'totDeg',\n",
    "        'totH',\n",
    "        'totV',\n",
    "        'isR',\n",
    "        'train_mask',\n",
    "        'test_mask',\n",
    "        'val_mask'\n",
    "    ],\n",
    "    group_edge_attrs=[\n",
    "        'label',\n",
    "        'bond_type'\n",
    "    ]\n",
    ")\n",
    "\n",
    "dataset"
   ]
  },
  {
   "cell_type": "code",
   "execution_count": null,
   "id": "6b506041-0d36-4c0f-a459-134cd82d894c",
   "metadata": {},
   "outputs": [],
   "source": [
    "class PYGNet(nn.Module):\n",
    "    def __init__(self, graph_dataset):\n",
    "        super().__init__()\n",
    "        self.conv1 = GCNConv(graph_dataset.num_node_features, 16)\n",
    "        self.conv2 = GCNConv(16, graph_dataset.num_classes)\n",
    "\n",
    "    def forward(self, graph):\n",
    "        x, edge_index = graph.x, graph.edge_index\n",
    "\n",
    "        x = self.conv1(x, edge_index)\n",
    "        x = F.relu(x)\n",
    "        x = F.dropout(x, training=self.training)\n",
    "        x = self.conv2(x, edge_index)\n",
    "\n",
    "        return F.log_softmax(x, dim=1)"
   ]
  },
  {
   "cell_type": "code",
   "execution_count": null,
   "id": "11fefb75-5647-420f-86de-9c82171de8de",
   "metadata": {},
   "outputs": [],
   "source": [
    "# train.py\n",
    "def main(hparams):\n",
    "    dataset_features = torch.column_stack([dataset.x[:, 0], dataset.x[:, 2:]])\n",
    "    dataset_target = dataset.x[:, 1]\n",
    "    dataset_t = dataset\n",
    "    dataset_t.x = dataset_features.float()\n",
    "    dataset_t.y = dataset_target.long()\n",
    "    dataset_t.num_node_features = dataset_t.x.size(1)\n",
    "    dataset_t.num_classes = torch.unique(dataset_t.y).size(0)\n",
    "    dataset_t.train_mask = dataset_t.x[:, -3].bool()\n",
    "    dataset_t.test_mask = dataset_t.x[:, -2].bool()\n",
    "    dataset_t.val_mask = dataset_t.x[:, -1].bool()\n",
    "\n",
    "    dataset_gpu = dataset_t.to(DEVICE)\n",
    "    model = PYGNet(dataset_gpu).to(DEVICE)\n",
    "    optimizer = torch.optim.Adam(model.parameters(), lr=0.01, weight_decay=5e-4)\n",
    "\n",
    "    model.train()\n",
    "    for epoch in range(2):\n",
    "        optimizer.zero_grad()\n",
    "        out = model(dataset_gpu)\n",
    "        loss = F.cross_entropy(out[dataset_gpu.train_mask], dataset_gpu.y[dataset_gpu.train_mask])\n",
    "        loss.backward()\n",
    "        optimizer.step()\n",
    "\n",
    "    model.eval()\n",
    "    pred = model(dataset_gpu).argmax(dim=1)\n",
    "    correct = (pred[dataset_gpu.test_mask] == dataset_gpu.y[dataset_gpu.test_mask]).sum()\n",
    "    acc = int(correct) / int(dataset_gpu.test_mask.sum())\n",
    "    print(f'Accuracy: {acc:.4f}')"
   ]
  },
  {
   "cell_type": "code",
   "execution_count": null,
   "id": "165cf464-e658-4d44-b207-7b5bc7a2526c",
   "metadata": {
    "tags": []
   },
   "outputs": [],
   "source": [
    "if __name__ == \"__main__\":\n",
    "    if not in_ipython():\n",
    "        root_dir = os.path.dirname(os.path.realpath(__file__))\n",
    "        parser = ArgumentParser(add_help=False)\n",
    "        hyperparams = parser.parse_args()\n",
    "\n",
    "        # TRAIN\n",
    "        main(hyperparams)\n",
    "    else:\n",
    "        main(None)"
   ]
  }
 ],
 "metadata": {
  "kernelspec": {
   "display_name": "Python 3 (ipykernel)",
   "language": "python",
   "name": "python3"
  },
  "language_info": {
   "codemirror_mode": {
    "name": "ipython",
    "version": 3
   },
   "file_extension": ".py",
   "mimetype": "text/x-python",
   "name": "python",
   "nbconvert_exporter": "python",
   "pygments_lexer": "ipython3",
   "version": "3.10.6"
  }
 },
 "nbformat": 4,
 "nbformat_minor": 5
}
