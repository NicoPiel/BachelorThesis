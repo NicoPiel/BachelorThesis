{
 "cells": [
  {
   "cell_type": "code",
   "execution_count": 10,
   "metadata": {},
   "outputs": [],
   "source": [
    "import pandas as pd\n",
    "import numpy as np\n",
    "import os\n",
    "import re\n",
    "import time\n",
    "\n",
    "from rdkit import Chem\n",
    "from openbabel import pybel"
   ]
  },
  {
   "cell_type": "code",
   "execution_count": 11,
   "metadata": {},
   "outputs": [],
   "source": [
    "def check_missing_files():\n",
    "    \"\"\"Checks for missing files. Returns true, if all files are present.\"\"\"\n",
    "    files = [\n",
    "        'edrug3d.sdf',\n",
    "        'qm9-1.sdf',\n",
    "        'qm9-2.sdf',\n",
    "        'qm9-3.sdf',\n",
    "        'qm9-4.sdf',\n",
    "        'qm9-5.sdf',\n",
    "        'qm9-6.sdf',\n",
    "        'qm9-7.sdf',\n",
    "        'qm9-8.sdf'\n",
    "    ]\n",
    "\n",
    "    for file in files:\n",
    "        if not os.path.exists('./data/' + file):\n",
    "            return False\n",
    "\n",
    "    return True"
   ]
  },
  {
   "cell_type": "code",
   "execution_count": 12,
   "metadata": {},
   "outputs": [],
   "source": [
    "# Download data\n",
    "\n",
    "if not check_missing_files():\n",
    "    !wget -nc -O data.zip \"https://hochschulebonnrheinsieg-my.sharepoint.com/:u:/g/personal/nico_piel_365h-brs_de1/ESuGOTn_IflEk7I5HkOFpbwBZKeOk9Qf2nL5JEcq2om6_Q?e=BuUnkT&download=1\"\n",
    "    !unzip -u data.zip\n",
    "    !rm data.zip"
   ]
  },
  {
   "cell_type": "code",
   "execution_count": 13,
   "metadata": {},
   "outputs": [],
   "source": [
    "def ac_to_series(smiles: str, filename: str) -> pd.DataFrame:\n",
    "    with open(filename) as file:\n",
    "        lines = file.readlines()\n",
    "\n",
    "        out = []\n",
    "\n",
    "        for line in lines:\n",
    "            if ('ATOM' in line):\n",
    "                strng = str(line[-3:]).strip()\n",
    "                out.append(strng)\n",
    "\n",
    "        output = '|'.join(out)\n",
    "\n",
    "        return pd.DataFrame.from_dict({'smiles': [smiles], 'types': [output]})"
   ]
  },
  {
   "cell_type": "code",
   "execution_count": 14,
   "metadata": {
    "tags": []
   },
   "outputs": [],
   "source": [
    "def sdf_to_list(filename: str) -> list:\n",
    "    \"\"\"Converts an sdf file to a Python list.\"\"\"\n",
    "    with open(filename, \"rt\") as file:\n",
    "        return file.read().split(r'$$$$')"
   ]
  },
  {
   "cell_type": "code",
   "execution_count": 15,
   "metadata": {
    "tags": []
   },
   "outputs": [],
   "source": [
    "mols = sdf_to_list('./data/edrug3d.sdf')\n",
    "df = pd.DataFrame(columns=['smiles', 'types'])"
   ]
  },
  {
   "cell_type": "code",
   "execution_count": 16,
   "metadata": {
    "collapsed": true,
    "jupyter": {
     "outputs_hidden": true
    },
    "tags": []
   },
   "outputs": [
    {
     "name": "stdout",
     "output_type": "stream",
     "text": [
      "/home/caigh/miniconda3/envs/mm/bin/wrapped_progs/antechamber: Fatal Error!\n",
      "Weird atomic valence (2) for atom (ID: 6, Name: N4).\n",
      "       Possible open valence.\n",
      "/home/caigh/miniconda3/envs/mm/bin/wrapped_progs/antechamber: Fatal Error!\n",
      "Weird atomic valence (2) for atom (ID: 9, Name: N5).\n",
      "       Possible open valence.\n",
      "/home/caigh/miniconda3/envs/mm/bin/wrapped_progs/antechamber: Fatal Error!\n",
      "GAFF does not have sufficient parameters for molecules having unusual\n",
      "       elements (those other than H,C,N,O,S,P and halogens).\n",
      "       To ensure antechamber works properly, one may need to designate\n",
      "       bond types for bonds involved with unusual elements.\n",
      "       To do so, simply freeze the bond types by appending \"F\" or \"f\" \n",
      "       to the corresponding bond types in ac or mol2 files\n",
      "       and rerun antechamber without unusual element checking via:\n",
      "       antechamber -dr no \n",
      "       Alternatively for metals, see metalpdb2mol2.py in MCPB. \n",
      "\n",
      "/home/caigh/miniconda3/envs/mm/bin/wrapped_progs/antechamber: Fatal Error!\n",
      "GAFF does not have sufficient parameters for molecules having unusual\n",
      "       elements (those other than H,C,N,O,S,P and halogens).\n",
      "       To ensure antechamber works properly, one may need to designate\n",
      "       bond types for bonds involved with unusual elements.\n",
      "       To do so, simply freeze the bond types by appending \"F\" or \"f\" \n",
      "       to the corresponding bond types in ac or mol2 files\n",
      "       and rerun antechamber without unusual element checking via:\n",
      "       antechamber -dr no \n",
      "       Alternatively for metals, see metalpdb2mol2.py in MCPB. \n",
      "\n",
      "/home/caigh/miniconda3/envs/mm/bin/wrapped_progs/antechamber: Fatal Error!\n",
      "GAFF does not have sufficient parameters for molecules having unusual\n",
      "       elements (those other than H,C,N,O,S,P and halogens).\n",
      "       To ensure antechamber works properly, one may need to designate\n",
      "       bond types for bonds involved with unusual elements.\n",
      "       To do so, simply freeze the bond types by appending \"F\" or \"f\" \n",
      "       to the corresponding bond types in ac or mol2 files\n",
      "       and rerun antechamber without unusual element checking via:\n",
      "       antechamber -dr no \n",
      "       Alternatively for metals, see metalpdb2mol2.py in MCPB. \n",
      "\n",
      "/home/caigh/miniconda3/envs/mm/bin/wrapped_progs/antechamber: Fatal Error!\n",
      "GAFF does not have sufficient parameters for molecules having unusual\n",
      "       elements (those other than H,C,N,O,S,P and halogens).\n",
      "       To ensure antechamber works properly, one may need to designate\n",
      "       bond types for bonds involved with unusual elements.\n",
      "       To do so, simply freeze the bond types by appending \"F\" or \"f\" \n",
      "       to the corresponding bond types in ac or mol2 files\n",
      "       and rerun antechamber without unusual element checking via:\n",
      "       antechamber -dr no \n",
      "       Alternatively for metals, see metalpdb2mol2.py in MCPB. \n",
      "\n",
      "/home/caigh/miniconda3/envs/mm/bin/wrapped_progs/antechamber: Fatal Error!\n",
      "GAFF does not have sufficient parameters for molecules having unusual\n",
      "       elements (those other than H,C,N,O,S,P and halogens).\n",
      "       To ensure antechamber works properly, one may need to designate\n",
      "       bond types for bonds involved with unusual elements.\n",
      "       To do so, simply freeze the bond types by appending \"F\" or \"f\" \n",
      "       to the corresponding bond types in ac or mol2 files\n",
      "       and rerun antechamber without unusual element checking via:\n",
      "       antechamber -dr no \n",
      "       Alternatively for metals, see metalpdb2mol2.py in MCPB. \n",
      "\n",
      "/home/caigh/miniconda3/envs/mm/bin/wrapped_progs/antechamber: Fatal Error!\n",
      "GAFF does not have sufficient parameters for molecules having unusual\n",
      "       elements (those other than H,C,N,O,S,P and halogens).\n",
      "       To ensure antechamber works properly, one may need to designate\n",
      "       bond types for bonds involved with unusual elements.\n",
      "       To do so, simply freeze the bond types by appending \"F\" or \"f\" \n",
      "       to the corresponding bond types in ac or mol2 files\n",
      "       and rerun antechamber without unusual element checking via:\n",
      "       antechamber -dr no \n",
      "       Alternatively for metals, see metalpdb2mol2.py in MCPB. \n",
      "\n",
      "end\n"
     ]
    }
   ],
   "source": [
    "for mol in mols:\n",
    "    # Strip leading new lines\n",
    "    mol = mol.lstrip()\n",
    "\n",
    "    # Split on new lines to correct for mistakes made by splitting the sdf molecules\n",
    "    split = mol.split('\\n')\n",
    "    curr_split_len = len(split)\n",
    "\n",
    "    if curr_split_len > 5:\n",
    "        # Inserts a new line if line 4 isn't in the correct place\n",
    "        if re.compile(r'\\s*\\d+\\s*\\d+\\s*\\d+\\s*\\d+\\s*').match(split[3]) is None:\n",
    "            mol = '\\n' + mol\n",
    "\n",
    "        # Writes molecule to a file so antechamber can read it\n",
    "        with open('mol.sdf', 'w') as file:\n",
    "            file.write(mol)\n",
    "\n",
    "        # Create an openbabel molecule\n",
    "        py_mol = pybel.readstring('sdf', mol)\n",
    "\n",
    "        # Run antechamber and divert output to a file (temporary)\n",
    "        !antechamber -i mol.sdf -fi mdl -o mol.ac -fo ac -at gaff2 -pf y > .log\n",
    "\n",
    "        # Sleep so antechamber can finish (requires experimentation)\n",
    "        time.sleep(0.5)\n",
    "\n",
    "        smiles = py_mol.write('smi')\n",
    "\n",
    "        smiles_only = re.compile(r'\\s+').split(smiles)[0]\n",
    "\n",
    "        ac_df = ac_to_series(smiles_only, 'mol.ac')\n",
    "\n",
    "        df = pd.concat([df, ac_df], ignore_index=True)\n",
    "    else:\n",
    "        print('end')\n",
    "\n",
    "try:\n",
    "    os.remove('mol.ac')\n",
    "    os.remove('mol.sdf')\n",
    "except IOError:\n",
    "    print('Something went wrong.')"
   ]
  },
  {
   "cell_type": "code",
   "execution_count": 18,
   "metadata": {},
   "outputs": [],
   "source": [
    "df.to_csv('./data/edrug3d.csv', index=False)"
   ]
  }
 ],
 "metadata": {
  "interpreter": {
   "hash": "07bca49d2aa91ba30708eb691bb51c14e8f9a0701c6e92c94ace8ce2abd85168"
  },
  "kernelspec": {
   "display_name": "Python 3 (ipykernel)",
   "language": "python",
   "name": "python3"
  },
  "language_info": {
   "codemirror_mode": {
    "name": "ipython",
    "version": 3
   },
   "file_extension": ".py",
   "mimetype": "text/x-python",
   "name": "python",
   "nbconvert_exporter": "python",
   "pygments_lexer": "ipython3",
   "version": "3.9.12"
  }
 },
 "nbformat": 4,
 "nbformat_minor": 4
}
