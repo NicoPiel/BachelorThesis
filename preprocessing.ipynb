{
 "cells": [
  {
   "cell_type": "code",
   "execution_count": 40,
   "metadata": {},
   "outputs": [],
   "source": [
    "import pandas as pd\n",
    "import numpy as np\n",
    "import os\n",
    "import re\n",
    "import time\n",
    "\n",
    "from rdkit import Chem\n",
    "from openbabel import pybel"
   ]
  },
  {
   "cell_type": "code",
   "execution_count": 41,
   "metadata": {},
   "outputs": [],
   "source": [
    "def ac_to_series(smiles: str, filename: str) -> pd.DataFrame:\n",
    "    with open(filename) as file:\n",
    "        lines = file.readlines()\n",
    "\n",
    "        out = []\n",
    "\n",
    "        for line in lines:\n",
    "            if ('ATOM' in line):\n",
    "                strng = str(line[-3:]).strip()\n",
    "                out.append(strng)\n",
    "\n",
    "        output = '|'.join(out)\n",
    "\n",
    "        return pd.DataFrame.from_dict({'smiles': [smiles], 'types': [output]})"
   ]
  },
  {
   "cell_type": "code",
   "execution_count": 42,
   "metadata": {
    "tags": []
   },
   "outputs": [],
   "source": [
    "def sdf_to_list(filename: str) -> list:\n",
    "    \"\"\"Converts an sdf file to a Python list.\"\"\"\n",
    "    with open(filename, \"rt\") as file:\n",
    "        return file.read().split(r'$$$$')"
   ]
  },
  {
   "cell_type": "code",
   "execution_count": 43,
   "metadata": {
    "tags": []
   },
   "outputs": [],
   "source": [
    "mols = sdf_to_list('./data/edrug3d.sdf')\n",
    "df = pd.DataFrame(columns=['smiles', 'types'])"
   ]
  },
  {
   "cell_type": "code",
   "execution_count": 44,
   "metadata": {
    "tags": []
   },
   "outputs": [
    {
     "ename": "KeyboardInterrupt",
     "evalue": "",
     "output_type": "error",
     "traceback": [
      "\u001b[0;31m---------------------------------------------------------------------------\u001b[0m",
      "\u001b[0;31mKeyboardInterrupt\u001b[0m                         Traceback (most recent call last)",
      "Input \u001b[0;32mIn [44]\u001b[0m, in \u001b[0;36m<cell line: 1>\u001b[0;34m()\u001b[0m\n\u001b[1;32m     22\u001b[0m get_ipython()\u001b[38;5;241m.\u001b[39msystem(\u001b[38;5;124m'\u001b[39m\u001b[38;5;124mantechamber -i mol.sdf -fi mdl -o mol.ac -fo ac -at gaff2 -pf y > .log\u001b[39m\u001b[38;5;124m'\u001b[39m)\n\u001b[1;32m     24\u001b[0m \u001b[38;5;66;03m# Sleep so antechamber can finish (requires experimentation)\u001b[39;00m\n\u001b[0;32m---> 25\u001b[0m \u001b[43mtime\u001b[49m\u001b[38;5;241;43m.\u001b[39;49m\u001b[43msleep\u001b[49m\u001b[43m(\u001b[49m\u001b[38;5;241;43m1\u001b[39;49m\u001b[43m)\u001b[49m\n\u001b[1;32m     27\u001b[0m ac_df \u001b[38;5;241m=\u001b[39m ac_to_series(py_mol\u001b[38;5;241m.\u001b[39mwrite(\u001b[38;5;124m'\u001b[39m\u001b[38;5;124msmi\u001b[39m\u001b[38;5;124m'\u001b[39m), \u001b[38;5;124m'\u001b[39m\u001b[38;5;124mmol.ac\u001b[39m\u001b[38;5;124m'\u001b[39m)\n\u001b[1;32m     29\u001b[0m df \u001b[38;5;241m=\u001b[39m pd\u001b[38;5;241m.\u001b[39mconcat([df, ac_df], ignore_index\u001b[38;5;241m=\u001b[39m\u001b[38;5;28;01mTrue\u001b[39;00m)\n",
      "\u001b[0;31mKeyboardInterrupt\u001b[0m: "
     ]
    }
   ],
   "source": [
    "for mol in mols:\n",
    "    # Strip leading new lines\n",
    "    mol = mol.lstrip()\n",
    "\n",
    "    # Split on new lines to correct for mistakes made by splitting the sdf molecules\n",
    "    split = mol.split('\\n')\n",
    "    curr_split_len = len(split)\n",
    "\n",
    "    if curr_split_len > 5:\n",
    "        # Inserts a new line if line 4 isn't in the correct place\n",
    "        if re.compile(r'\\s*\\d+\\s*\\d+\\s*\\d+\\s*\\d+\\s*').match(split[3]) is None:\n",
    "            mol = '\\n' + mol\n",
    "\n",
    "        # Writes molecule to a file so antechamber can read it\n",
    "        with open('mol.sdf', 'w') as file:\n",
    "            file.write(mol)\n",
    "\n",
    "        # Create an openbabel molecule\n",
    "        py_mol = pybel.readstring('sdf', mol)\n",
    "\n",
    "        # Run antechamber and divert output to a file (temporary)\n",
    "        !antechamber -i mol.sdf -fi mdl -o mol.ac -fo ac -at gaff2 -pf y > .log\n",
    "\n",
    "        # Sleep so antechamber can finish (requires experimentation)\n",
    "        time.sleep(1)\n",
    "\n",
    "        ac_df = ac_to_series(py_mol.write('smi'), 'mol.ac')\n",
    "\n",
    "        df = pd.concat([df, ac_df], ignore_index=True)\n",
    "    else:\n",
    "        print('end')\n",
    "\n",
    "try:\n",
    "    os.remove('mol.ac')\n",
    "    os.remove('mol.sdf')\n",
    "except IOError:\n",
    "    print('Something went wrong.')"
   ]
  },
  {
   "cell_type": "code",
   "execution_count": null,
   "metadata": {
    "tags": []
   },
   "outputs": [],
   "source": [
    "df"
   ]
  },
  {
   "cell_type": "code",
   "execution_count": null,
   "metadata": {},
   "outputs": [],
   "source": [
    "df.to_csv('./data/edrug3d.csv', index=False)"
   ]
  }
 ],
 "metadata": {
  "interpreter": {
   "hash": "07bca49d2aa91ba30708eb691bb51c14e8f9a0701c6e92c94ace8ce2abd85168"
  },
  "kernelspec": {
   "display_name": "Python 3 (ipykernel)",
   "language": "python",
   "name": "python3"
  },
  "language_info": {
   "codemirror_mode": {
    "name": "ipython",
    "version": 3
   },
   "file_extension": ".py",
   "mimetype": "text/x-python",
   "name": "python",
   "nbconvert_exporter": "python",
   "pygments_lexer": "ipython3",
   "version": "3.9.12"
  }
 },
 "nbformat": 4,
 "nbformat_minor": 4
}
