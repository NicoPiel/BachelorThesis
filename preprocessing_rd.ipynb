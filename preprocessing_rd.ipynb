{
 "cells": [
  {
   "cell_type": "code",
   "execution_count": 19,
   "id": "c2a51e7f-23eb-48f3-ae10-1d5c128b4a97",
   "metadata": {},
   "outputs": [],
   "source": [
    "import pandas as pd\n",
    "import numpy as np\n",
    "import os\n",
    "import re\n",
    "import time\n",
    "import threading\n",
    "import subprocess\n",
    "from glob import glob\n",
    "\n",
    "import matplotlib.pyplot as plt\n",
    "\n",
    "from tqdm.notebook import tqdm\n",
    "from rdkit import Chem\n",
    "from rdkit.Chem import Descriptors, Descriptors3D, ChemicalFeatures, GraphDescriptors, Lipinski, rdchem\n",
    "from rdkit.Chem.rdchem import Mol, Atom, Bond\n",
    "from rdkit.Chem.rdmolfiles import SDMolSupplier, SDWriter\n",
    "from rdkit.rdBase import BlockLogs\n",
    "import datamol as dm\n",
    "import multiprocessing\n",
    "import networkx as nx\n",
    "\n",
    "%matplotlib inline\n",
    "\n",
    "temp_path = './temp'\n",
    "data_path = './data'\n",
    "\n",
    "if not os.path.exists(temp_path):\n",
    "    os.mkdir(temp_path)"
   ]
  },
  {
   "cell_type": "code",
   "execution_count": 4,
   "id": "cf3f8dc3-b87a-4f9c-ac64-4f55deac03ee",
   "metadata": {},
   "outputs": [
    {
     "name": "stdout",
     "output_type": "stream",
     "text": [
      "total xyz filepath #  133885\n"
     ]
    },
    {
     "data": {
      "text/plain": [
       "'./data/dsgdb9nsd_000001.xyz'"
      ]
     },
     "execution_count": 4,
     "metadata": {},
     "output_type": "execute_result"
    }
   ],
   "source": [
    "xyz_filepath_list = list(glob(f'{data_path}/*.xyz'))\n",
    "\n",
    "xyz_filepath_list.sort()\n",
    "print('total xyz filepath # ', len(xyz_filepath_list))\n",
    "xyz_filepath_list[0]"
   ]
  },
  {
   "cell_type": "code",
   "execution_count": 5,
   "id": "7851492b-596d-4cfe-891b-be26f3d46020",
   "metadata": {},
   "outputs": [
    {
     "data": {
      "application/vnd.jupyter.widget-view+json": {
       "model_id": "1e15329fb0aa4167b6e5eb7f63189b99",
       "version_major": 2,
       "version_minor": 0
      },
      "text/plain": [
       "  0%|          | 0/133885 [00:00<?, ?it/s]"
      ]
     },
     "metadata": {},
     "output_type": "display_data"
    }
   ],
   "source": [
    "def check_missing_files() -> None:\n",
    "    \"\"\"\n",
    "    Checks for missing .xyz QM9 files\n",
    "\n",
    "    Return\n",
    "        True | False: True, if all files are accounted for\n",
    "    \"\"\"\n",
    "    for file in tqdm(xyz_filepath_list):\n",
    "        if not os.path.exists(file):\n",
    "            print('Retrieving QM9..')\n",
    "            !wget https://figshare.com/ndownloader/files/3195389 -O ./data/data.bz2\n",
    "            !tar -xfu ./data/data.bz2\n",
    "            !rm ./data/*.bz2\n",
    "\n",
    "    if not os.path.exists(f'{data_path}/edrug3d.sdf'):\n",
    "        print('Retrieving edrug3d..')\n",
    "        !wget https://chemoinfo.ipmc.cnrs.fr/TMP/tmp.33880/e-Drug3D_2056.sdf -O ./data/edrug3d.sdf\n",
    "\n",
    "    return None\n",
    "\n",
    "check_missing_files()"
   ]
  },
  {
   "cell_type": "code",
   "execution_count": 6,
   "id": "9e5e2b0e-0d1e-4dba-9762-c3ea0e45360b",
   "metadata": {},
   "outputs": [],
   "source": [
    "def in_ipython():\n",
    "    try:\n",
    "        return __IPYTHON__\n",
    "    except NameError:\n",
    "        return False"
   ]
  },
  {
   "cell_type": "code",
   "execution_count": 7,
   "id": "fff1212f-05ec-4cee-b441-d16139ca0a33",
   "metadata": {
    "tags": []
   },
   "outputs": [
    {
     "data": {
      "application/vnd.jupyter.widget-view+json": {
       "model_id": "b85c4fdc654a44389a8c29e5f6a134a4",
       "version_major": 2,
       "version_minor": 0
      },
      "text/plain": [
       "  0%|          | 0/133885 [00:00<?, ?it/s]"
      ]
     },
     "metadata": {},
     "output_type": "display_data"
    },
    {
     "name": "stdout",
     "output_type": "stream",
     "text": [
      "Done\n"
     ]
    }
   ],
   "source": [
    "manager = multiprocessing.Manager()\n",
    "molecules = manager.list()\n",
    "\n",
    "\n",
    "def xyz2mol(m):\n",
    "    blockedLogs = BlockLogs()\n",
    "\n",
    "    with open(m) as file:\n",
    "        lines = file.readlines()\n",
    "\n",
    "        smiles = lines[len(lines) - 2].split()[0]\n",
    "        smiles = dm.standardize_smiles(smiles)\n",
    "\n",
    "        mol = dm.to_mol(smiles, add_hs=True, sanitize=True, ordered=True)\n",
    "        mol = dm.fix_mol(mol)\n",
    "        dm.align.compute_2d_coords(mol)\n",
    "        # dm.conformers.generate(mol)\n",
    "\n",
    "        molecules.append(mol)\n",
    "\n",
    "\n",
    "def e3d2mol():\n",
    "    blockedLogs = BlockLogs()\n",
    "\n",
    "    mols = dm.read_sdf(f'{data_path}/edrug3d.sdf', remove_hs=False)\n",
    "    molecules.extend(mols)\n",
    "\n",
    "\n",
    "# Not working yet\n",
    "# e3d2mol()\n",
    "\n",
    "dm.parallelized(xyz2mol,\n",
    "                xyz_filepath_list,\n",
    "                n_jobs=-1,\n",
    "                progress=True,\n",
    "                arg_type='arg',\n",
    "                total=len(xyz_filepath_list))\n",
    "\n",
    "print('Done')"
   ]
  },
  {
   "cell_type": "code",
   "execution_count": 8,
   "id": "f9244723-627b-40d1-8cb4-6a36bfd6806c",
   "metadata": {
    "tags": []
   },
   "outputs": [
    {
     "data": {
      "text/plain": [
       "133885"
      ]
     },
     "execution_count": 8,
     "metadata": {},
     "output_type": "execute_result"
    }
   ],
   "source": [
    "len(molecules)"
   ]
  },
  {
   "cell_type": "code",
   "execution_count": 22,
   "id": "8b7155e1-a745-4ee2-8e06-ca335ded624b",
   "metadata": {},
   "outputs": [
    {
     "name": "stdout",
     "output_type": "stream",
     "text": [
      "[(0, {'atomic_num': 6, 'formal_charge': 0, 'chiral_tag': rdkit.Chem.rdchem.ChiralType.CHI_UNSPECIFIED, 'hybridization': rdkit.Chem.rdchem.HybridizationType.SP3, 'num_explicit_hs': 2, 'implicit_valence': 0, 'degree': 2, 'symbol': 'C', 'ring_atom': True, 'is_aromatic': False}), (1, {'atomic_num': 6, 'formal_charge': 0, 'chiral_tag': rdkit.Chem.rdchem.ChiralType.CHI_UNSPECIFIED, 'hybridization': rdkit.Chem.rdchem.HybridizationType.SP2, 'num_explicit_hs': 0, 'implicit_valence': 0, 'degree': 3, 'symbol': 'C', 'ring_atom': True, 'is_aromatic': False}), (2, {'atomic_num': 8, 'formal_charge': 0, 'chiral_tag': rdkit.Chem.rdchem.ChiralType.CHI_UNSPECIFIED, 'hybridization': rdkit.Chem.rdchem.HybridizationType.SP2, 'num_explicit_hs': 0, 'implicit_valence': 0, 'degree': 1, 'symbol': 'O', 'ring_atom': False, 'is_aromatic': False}), (3, {'atomic_num': 6, 'formal_charge': 0, 'chiral_tag': rdkit.Chem.rdchem.ChiralType.CHI_UNSPECIFIED, 'hybridization': rdkit.Chem.rdchem.HybridizationType.SP3, 'num_explicit_hs': 2, 'implicit_valence': 0, 'degree': 2, 'symbol': 'C', 'ring_atom': True, 'is_aromatic': False}), (4, {'atomic_num': 6, 'formal_charge': 0, 'chiral_tag': rdkit.Chem.rdchem.ChiralType.CHI_UNSPECIFIED, 'hybridization': rdkit.Chem.rdchem.HybridizationType.SP3, 'num_explicit_hs': 2, 'implicit_valence': 0, 'degree': 2, 'symbol': 'C', 'ring_atom': True, 'is_aromatic': False})]\n",
      "[(0, 1, {'bond_type': rdkit.Chem.rdchem.BondType.SINGLE}), (0, 4, {'bond_type': rdkit.Chem.rdchem.BondType.SINGLE}), (1, 2, {'bond_type': rdkit.Chem.rdchem.BondType.DOUBLE}), (1, 3, {'bond_type': rdkit.Chem.rdchem.BondType.SINGLE}), (3, 4, {'bond_type': rdkit.Chem.rdchem.BondType.SINGLE})]\n"
     ]
    },
    {
     "data": {
      "image/png": "[encoded data removed]",
      "text/plain": [
       "<Figure size 640x480 with 1 Axes>"
      ]
     },
     "metadata": {},
     "output_type": "display_data"
    }
   ],
   "source": [
    "graph = dm.to_graph(molecules[50])\n",
    "print(graph.nodes.data())\n",
    "print(graph.edges.data())\n",
    "nx.draw(graph, with_labels=True)"
   ]
  },
  {
   "cell_type": "code",
   "execution_count": 7,
   "id": "a45bce74-cf1b-4df7-a106-926249e4f9cb",
   "metadata": {},
   "outputs": [],
   "source": [
    "df_list = []\n",
    "main_df = None\n",
    "line_split_re = re.compile(r'\\s+')\n",
    "\n",
    "\n",
    "def preprocess():\n",
    "    for mol in tqdm(molecules):\n",
    "        if mol is None:\n",
    "            continue\n",
    "\n",
    "        # mol = Chem.AddHs(mol)\n",
    "\n",
    "        # Mol.Compute2DCoords(mol)\n",
    "\n",
    "        df_out = None\n",
    "\n",
    "        with open(temp_path + '/mol.sdf', 'w') as file:\n",
    "            Chem.MolToPDBFile(mol, temp_path + '/mol.sdf')\n",
    "\n",
    "        # Run antechamber and divert output to a file (temporary)\n",
    "        subprocess.getoutput(\n",
    "            f'cd {temp_path} && antechamber -i mol.sdf -fi pdb -o mol.ac -fo ac -at gaff2 -pf y'\n",
    "        )\n",
    "\n",
    "        # Info = {}\n",
    "\n",
    "        # rdInfo['hvyAtCnt'] = Lipinski.HeavyAtomCount(mol)\n",
    "        # rdInfo['nhohC'] = Lipinski.NHOHCount(mol)\n",
    "        # rdInfo['noC'] = Lipinski.NOCount(mol)\n",
    "        # rdInfo['aliCC'] = Lipinski.NumAliphaticCarbocycles(mol)\n",
    "        # rdInfo['aliHC'] = Lipinski.NumAliphaticHeterocycles(mol)\n",
    "        # rdInfo['aliR'] = Lipinski.NumAliphaticRings(mol)\n",
    "        # rdInfo['aroCC'] = Lipinski.NumAromaticCarbocycles(mol)\n",
    "        # rdInfo['aroR'] = Lipinski.NumAromaticRings(mol)\n",
    "        # rdInfo['HA'] = Lipinski.NumHAcceptors(mol)\n",
    "        # rdInfo['HD'] = Lipinski.NumHDonors(mol)\n",
    "        # rdInfo['HAt'] = Lipinski.NumHeteroatoms(mol)\n",
    "        # rdInfo['rotatableBonds'] = Lipinski.NumRotatableBonds(mol)\n",
    "        # rdInfo['satCC'] = Lipinski.NumSaturatedCarbocycles(mol)\n",
    "        # rdInfo['satHC'] = Lipinski.NumSaturatedHeterocycles(mol)\n",
    "        # rdInfo['satR'] = Lipinski.NumSaturatedRings(mol)\n",
    "        # rdInfo['rC'] = Lipinski.RingCount(mol)\n",
    "        # rdInfo['molWt'] = Descriptors.MolWt(mol)\n",
    "        # rdInfo['hvyAtMolWt'] = Descriptors.HeavyAtomMolWt(mol)\n",
    "        # rdInfo['molMaxPC'] = Descriptors.MaxPartialCharge(mol)\n",
    "        # rdInfo['molMinPC'] = Descriptors.MinPartialCharge(mol)\n",
    "        # rdInfo['molRadElec'] = Descriptors.NumRadicalElectrons(mol)\n",
    "        # rdInfo['molValElec'] = Descriptors.NumValenceElectrons(mol)\n",
    "        # rdInfo['asph'] = Descriptors3D.Asphericity(mol)\n",
    "        # rdInfo['ecc'] = Descriptors3D.Eccentricity(mol)\n",
    "        # rdInfo['isf'] = Descriptors3D.InertialShapeFactor(mol)\n",
    "        # rdInfo['npr1'] = Descriptors3D.NPR1(mol)\n",
    "        # rdInfo['npr2'] = Descriptors3D.NPR2(mol)\n",
    "        # rdInfo['pmi'] = Descriptors3D.PMI1(mol)\n",
    "        # rdInfo['rog'] = Descriptors3D.RadiusOfGyration(mol)\n",
    "        # rdInfo['j'] = GraphDescriptors.BalabanJ(mol)\n",
    "        # rdInfo['ct'] = GraphDescriptors.BertzCT(mol)\n",
    "\n",
    "        rdInfo = dm.descriptors.compute_many_descriptors(mol, {\n",
    "            'hvyAtCnt': 'HeavyAtomCount',\n",
    "            'nhohC': 'NHOHCount',\n",
    "            'noC': 'NOCount',\n",
    "            'aliCC': 'NumAliphaticCarbocycles',\n",
    "            'aliHC': 'NumAliphaticHeterocycles',\n",
    "            'aliR': 'NumAliphaticRings',\n",
    "            'aroCC': 'NumAromaticCarbocycles',\n",
    "            'aroR': 'NumAromaticRings',\n",
    "            'HA': 'NumHAcceptors',\n",
    "            'HD': 'NumHDonors',\n",
    "            'HAt': 'NumHeteroatoms',\n",
    "            'rotatableBonds': 'NumRotatableBonds',\n",
    "            'satCC': 'NumSaturatedCarbocycles',\n",
    "            'satHC': 'NumSaturatedHeterocycles',\n",
    "            'satR': 'NumSaturatedRings',\n",
    "            'rC': 'RingCount',\n",
    "            'molWt': 'MolWt',\n",
    "            'hvyAtMolWt': 'HeavyAtomMolWt',\n",
    "            'molMaxPC': 'MaxPartialCharge',\n",
    "            'molMinPC': 'MinPartialCharge',\n",
    "            'molRadElec': 'NumRadicalElectrons',\n",
    "            'molValElec': 'NumValenceElectrons',\n",
    "        })\n",
    "\n",
    "        with open(temp_path + '/mol.ac') as file:\n",
    "            lines = [a for a in file.readlines() if 'ATOM' in a]\n",
    "\n",
    "            for atom in Mol.GetAtoms(mol):\n",
    "                out = {}\n",
    "\n",
    "                idx = Atom.GetIdx(atom)\n",
    "\n",
    "                line = lines[idx]\n",
    "\n",
    "                a_split = line_split_re.split(line.strip())\n",
    "                atom_name = a_split[2]\n",
    "                if len(a_split) > 9:\n",
    "                    atom_type = a_split[9]\n",
    "                else:\n",
    "                    atom_type = a_split[8]\n",
    "\n",
    "                out['type'] = atom_type\n",
    "                out['name'] = Atom.GetSymbol(atom)\n",
    "\n",
    "                # print(f'RDKit atom: {Atom.GetSymbol(atom)}')\n",
    "                # print(f'antechamber atom: {atom_name}')\n",
    "\n",
    "                bonds = {\n",
    "                    'C': 0,\n",
    "                    'H': 0,\n",
    "                    'N': 0,\n",
    "                    'O': 0,\n",
    "                    'S': 0,\n",
    "                    'F': 0,\n",
    "                    'Cl': 0,\n",
    "                    'Br': 0,\n",
    "                    'I': 0,\n",
    "                    'Other': 0\n",
    "                }\n",
    "\n",
    "                bond_types = {\n",
    "                    'SINGLE': 0,\n",
    "                    'DOUBLE': 0,\n",
    "                    'TRIPLE': 0,\n",
    "                    'OTHER': 0\n",
    "                }\n",
    "\n",
    "                args = {\n",
    "                    'depDeg': Atom.GetDegree(atom),\n",
    "                    'explVal': Atom.GetExplicitValence(atom),\n",
    "                    'forC': Atom.GetFormalCharge(atom),\n",
    "                    'implV': Atom.GetImplicitValence(atom),\n",
    "                    'isA': int(Atom.GetIsAromatic(atom)),\n",
    "                    'explH': Atom.GetNumExplicitHs(atom),\n",
    "                    'implH': Atom.GetNumImplicitHs(atom),\n",
    "                    'radEl': Atom.GetNumRadicalElectrons(atom),\n",
    "                    'totDeg': Atom.GetTotalDegree(atom),\n",
    "                    'totH': Atom.GetTotalNumHs(atom),\n",
    "                    'totV': Atom.GetTotalValence(atom),\n",
    "                    'isR': int(Atom.IsInRing(atom)),\n",
    "                }\n",
    "\n",
    "                for bond in Atom.GetBonds(atom):\n",
    "                    bond_name = Atom.GetSymbol(Bond.GetEndAtom(bond))\n",
    "                    bond_type = Bond.GetBondType(bond)\n",
    "\n",
    "                    if bond_name in bonds.keys():\n",
    "                        bonds[bond_name] += 1\n",
    "                    else:\n",
    "                        bonds['Other'] += 1\n",
    "\n",
    "                    if bond_type in bond_types.keys():\n",
    "                        bond_types[bond_type] += 1\n",
    "                    else:\n",
    "                        bond_types['OTHER'] += 1\n",
    "\n",
    "                out.update(bonds)\n",
    "                out.update(bond_types)\n",
    "                out.update(rdInfo)\n",
    "                out.update(args)\n",
    "\n",
    "                # Append molecule info to every atom\n",
    "                atom_df = pd.DataFrame(out, index=[0])\n",
    "\n",
    "                if df_out is None:\n",
    "                    df_out = pd.DataFrame(columns=atom_df.columns)\n",
    "\n",
    "                df_out = pd.concat([df_out, atom_df], ignore_index=True)\n",
    "\n",
    "        # Clean up remaining files\n",
    "        try:\n",
    "            os.remove(temp_path + '/mol.ac')\n",
    "            os.remove(temp_path + '/mol.sdf')\n",
    "        except IOError:\n",
    "            print('Something went wrong.')\n",
    "\n",
    "        df_list.append(df_out)"
   ]
  },
  {
   "cell_type": "code",
   "execution_count": 8,
   "id": "94dc72eb-3a4c-44b9-88e4-8a6de55371bd",
   "metadata": {
    "tags": []
   },
   "outputs": [],
   "source": [
    "def main():\n",
    "    preprocess()\n",
    "\n",
    "    # Concatenate dfs in the list\n",
    "    main_df = pd.concat(df_list, ignore_index=True)\n",
    "    main_df.to_csv(f'{data_path}/data.csv', index=False)"
   ]
  },
  {
   "cell_type": "code",
   "execution_count": null,
   "id": "d00171fc-6d66-40a2-a1b1-6299a634041a",
   "metadata": {
    "tags": []
   },
   "outputs": [
    {
     "data": {
      "application/vnd.jupyter.widget-view+json": {
       "model_id": "c17a527ed8c748f2b6eb41eefd63f508",
       "version_major": 2,
       "version_minor": 0
      },
      "text/plain": [
       "  0%|          | 0/133885 [00:00<?, ?it/s]"
      ]
     },
     "metadata": {},
     "output_type": "display_data"
    }
   ],
   "source": [
    "if __name__ == \"__main__\":\n",
    "    if not in_ipython():\n",
    "        root_dir = os.path.dirname(os.path.realpath(__file__))\n",
    "\n",
    "        main()\n",
    "    else:\n",
    "        main()"
   ]
  }
 ],
 "metadata": {
  "kernelspec": {
   "display_name": "Python 3 (ipykernel)",
   "language": "python",
   "name": "python3"
  },
  "language_info": {
   "codemirror_mode": {
    "name": "ipython",
    "version": 3
   },
   "file_extension": ".py",
   "mimetype": "text/x-python",
   "name": "python",
   "nbconvert_exporter": "python",
   "pygments_lexer": "ipython3",
   "version": "3.9.13"
  }
 },
 "nbformat": 4,
 "nbformat_minor": 5
}
