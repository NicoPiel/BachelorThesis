{
 "cells": [
  {
   "cell_type": "code",
   "execution_count": 1,
   "id": "c2a51e7f-23eb-48f3-ae10-1d5c128b4a97",
   "metadata": {},
   "outputs": [],
   "source": [
    "import pandas as pd\n",
    "import numpy as np\n",
    "import os\n",
    "import re\n",
    "import time\n",
    "import threading\n",
    "import subprocess\n",
    "from glob import glob\n",
    "from IPython.display import clear_output\n",
    "\n",
    "from tqdm.notebook import tqdm\n",
    "from pqdm.threads import pqdm\n",
    "from rdkit import Chem\n",
    "from rdkit.Chem import Descriptors, Descriptors3D, ChemicalFeatures, GraphDescriptors, Lipinski, rdchem\n",
    "from rdkit.Chem.rdchem import Mol, Atom, Bond\n",
    "from rdkit.Chem.rdmolfiles import SDMolSupplier, SDWriter\n",
    "from openbabel import pybel\n",
    "import xyz2mol\n",
    "\n",
    "if not os.path.exists('./temp'):\n",
    "    os.mkdir('./temp')"
   ]
  },
  {
   "cell_type": "code",
   "execution_count": 2,
   "id": "9e5e2b0e-0d1e-4dba-9762-c3ea0e45360b",
   "metadata": {},
   "outputs": [],
   "source": [
    "def in_ipython():\n",
    "    try:\n",
    "        return __IPYTHON__\n",
    "    except NameError:\n",
    "        return False"
   ]
  },
  {
   "cell_type": "code",
   "execution_count": 3,
   "id": "fff1212f-05ec-4cee-b441-d16139ca0a33",
   "metadata": {},
   "outputs": [
    {
     "name": "stdout",
     "output_type": "stream",
     "text": [
      "total xyz filepath #  133885\n"
     ]
    },
    {
     "data": {
      "application/vnd.jupyter.widget-view+json": {
       "model_id": "01cddf1bb3764e01ad6c33044e7cad9f",
       "version_major": 2,
       "version_minor": 0
      },
      "text/plain": [
       "  0%|          | 0/133885 [00:00<?, ?it/s]"
      ]
     },
     "metadata": {},
     "output_type": "display_data"
    }
   ],
   "source": [
    "xyz_filepath_list = list(glob('./data/*.xyz'))\n",
    "\n",
    "xyz_filepath_list.sort()\n",
    "print('total xyz filepath # ', len(xyz_filepath_list))\n",
    "\n",
    "molecules = []\n",
    "\n",
    "for m in tqdm(xyz_filepath_list):\n",
    "    with open(m) as file:\n",
    "        lines = file.readlines()\n",
    "\n",
    "        smiles = lines[len(lines) - 2].split()[0]\n",
    "\n",
    "        molecules.append(Chem.MolFromSmiles(smiles))"
   ]
  },
  {
   "cell_type": "code",
   "execution_count": 4,
   "id": "f9244723-627b-40d1-8cb4-6a36bfd6806c",
   "metadata": {
    "tags": []
   },
   "outputs": [
    {
     "data": {
      "image/png": "[encoded data removed]",
      "text/plain": [
       "<rdkit.Chem.rdchem.Mol at 0x7f994f868be0>"
      ]
     },
     "execution_count": 4,
     "metadata": {},
     "output_type": "execute_result"
    }
   ],
   "source": [
    "molecules[0]"
   ]
  },
  {
   "cell_type": "code",
   "execution_count": 5,
   "id": "a45bce74-cf1b-4df7-a106-926249e4f9cb",
   "metadata": {},
   "outputs": [],
   "source": [
    "df_list = []\n",
    "main_df = None\n",
    "line_split_re = re.compile(r'\\s+')\n",
    "\n",
    "\n",
    "def preprocess():\n",
    "    temp_path = './temp/'\n",
    "\n",
    "    if not os.path.exists(temp_path):\n",
    "        os.mkdir(temp_path)\n",
    "\n",
    "    for mol in tqdm(molecules):\n",
    "        if mol is None:\n",
    "            continue\n",
    "\n",
    "        mol = Chem.AddHs(mol)\n",
    "\n",
    "        Mol.Compute2DCoords(mol)\n",
    "        Mol.ComputeGasteigerCharges(mol)\n",
    "\n",
    "        df_out = None\n",
    "\n",
    "        with open(temp_path + 'mol.sdf', 'w') as file:\n",
    "            Chem.MolToPDBFile(mol, temp_path + 'mol.sdf')\n",
    "\n",
    "        # Run antechamber and divert output to a file (temporary)\n",
    "        subprocess.getoutput(\n",
    "            f'cd {temp_path} && antechamber -i mol.sdf -fi pdb -o mol.ac -fo ac -at gaff2 -pf y'\n",
    "        )\n",
    "\n",
    "        rdInfo = {}\n",
    "\n",
    "        rdInfo['hvyAtCnt'] = Lipinski.HeavyAtomCount(mol)\n",
    "        rdInfo['nhohC'] = Lipinski.NHOHCount(mol)\n",
    "        rdInfo['noC'] = Lipinski.NOCount(mol)\n",
    "        rdInfo['aliCC'] = Lipinski.NumAliphaticCarbocycles(mol)\n",
    "        rdInfo['aliHC'] = Lipinski.NumAliphaticHeterocycles(mol)\n",
    "        rdInfo['aliR'] = Lipinski.NumAliphaticRings(mol)\n",
    "        rdInfo['aroCC'] = Lipinski.NumAromaticCarbocycles(mol)\n",
    "        rdInfo['aroR'] = Lipinski.NumAromaticRings(mol)\n",
    "        rdInfo['HA'] = Lipinski.NumHAcceptors(mol)\n",
    "        rdInfo['HD'] = Lipinski.NumHDonors(mol)\n",
    "        rdInfo['HAt'] = Lipinski.NumHeteroatoms(mol)\n",
    "        rdInfo['rotatableBonds'] = Lipinski.NumRotatableBonds(mol)\n",
    "        rdInfo['satCC'] = Lipinski.NumSaturatedCarbocycles(mol)\n",
    "        rdInfo['satHC'] = Lipinski.NumSaturatedHeterocycles(mol)\n",
    "        rdInfo['satR'] = Lipinski.NumSaturatedRings(mol)\n",
    "        rdInfo['rC'] = Lipinski.RingCount(mol)\n",
    "        rdInfo['molWt'] = Descriptors.MolWt(mol)\n",
    "        rdInfo['hvyAtMolWt'] = Descriptors.HeavyAtomMolWt(mol)\n",
    "        rdInfo['molMaxPC'] = Descriptors.MaxPartialCharge(mol)\n",
    "        rdInfo['molMinPC'] = Descriptors.MinPartialCharge(mol)\n",
    "        rdInfo['molRadElec'] = Descriptors.NumRadicalElectrons(mol)\n",
    "        rdInfo['molValElec'] = Descriptors.NumValenceElectrons(mol)\n",
    "        rdInfo['asph'] = Descriptors3D.Asphericity(mol)\n",
    "        rdInfo['ecc'] = Descriptors3D.Eccentricity(mol)\n",
    "        rdInfo['isf'] = Descriptors3D.InertialShapeFactor(mol)\n",
    "        rdInfo['npr1'] = Descriptors3D.NPR1(mol)\n",
    "        rdInfo['npr2'] = Descriptors3D.NPR2(mol)\n",
    "        rdInfo['pmi'] = Descriptors3D.PMI1(mol)\n",
    "        rdInfo['rog'] = Descriptors3D.RadiusOfGyration(mol)\n",
    "        rdInfo['j'] = GraphDescriptors.BalabanJ(mol)\n",
    "        rdInfo['ct'] = GraphDescriptors.BertzCT(mol)\n",
    "\n",
    "        with open(temp_path + 'mol.ac') as file:\n",
    "            lines = [a for a in file.readlines() if 'ATOM' in a]\n",
    "\n",
    "            for atom in Mol.GetAtoms(mol):\n",
    "                out = {}\n",
    "\n",
    "                idx = Atom.GetIdx(atom)\n",
    "\n",
    "                line = lines[idx]\n",
    "\n",
    "                a_split = line_split_re.split(line.strip())\n",
    "                atom_name = a_split[2]\n",
    "                if len(a_split) > 9:\n",
    "                    atom_type = a_split[9]\n",
    "                else:\n",
    "                    atom_type = a_split[8]\n",
    "\n",
    "                out['type'] = atom_type\n",
    "                out['name'] = Atom.GetSymbol(atom)\n",
    "\n",
    "                # print(f'RDKit atom: {Atom.GetSymbol(atom)}')\n",
    "                # print(f'antechamber atom: {atom_name}')\n",
    "\n",
    "                bonds = {\n",
    "                    'C': 0,\n",
    "                    'H': 0,\n",
    "                    'N': 0,\n",
    "                    'O': 0,\n",
    "                    'S': 0,\n",
    "                    'F': 0,\n",
    "                    'Cl': 0,\n",
    "                    'Br': 0,\n",
    "                    'I': 0,\n",
    "                    'Other': 0\n",
    "                }\n",
    "\n",
    "                bond_types = {\n",
    "                    'SINGLE': 0,\n",
    "                    'DOUBLE': 0,\n",
    "                    'TRIPLE': 0,\n",
    "                    'OTHER': 0\n",
    "                }\n",
    "\n",
    "                args = {\n",
    "                    'depDeg': Atom.GetDegree(atom),\n",
    "                    'explVal': Atom.GetExplicitValence(atom),\n",
    "                    'forC': Atom.GetFormalCharge(atom),\n",
    "                    'implV': Atom.GetImplicitValence(atom),\n",
    "                    'isA': int(Atom.GetIsAromatic(atom)),\n",
    "                    'explH': Atom.GetNumExplicitHs(atom),\n",
    "                    'implH': Atom.GetNumImplicitHs(atom),\n",
    "                    'radEl': Atom.GetNumRadicalElectrons(atom),\n",
    "                    'totDeg': Atom.GetTotalDegree(atom),\n",
    "                    'totH': Atom.GetTotalNumHs(atom),\n",
    "                    'totV': Atom.GetTotalValence(atom),\n",
    "                    'isR': Atom.IsInRing(atom),\n",
    "                }\n",
    "\n",
    "                for bond in Atom.GetBonds(atom):\n",
    "                    bond_name = Atom.GetSymbol(Bond.GetEndAtom(bond))\n",
    "                    bond_type = Bond.GetBondType(bond)\n",
    "\n",
    "                    if bond_name in bonds.keys():\n",
    "                        bonds[bond_name] += 1\n",
    "                    else:\n",
    "                        bonds['Other'] += 1\n",
    "\n",
    "                    if bond_type in bond_types.keys():\n",
    "                        bond_types[bond_type] += 1\n",
    "                    else:\n",
    "                        bond_types['OTHER'] += 1\n",
    "\n",
    "                out.update(bonds)\n",
    "                out.update(bond_types)\n",
    "                out.update(rdInfo)\n",
    "                out.update(args)\n",
    "\n",
    "                # Append molecule info to every atom\n",
    "                atom_df = pd.DataFrame(out, index=[0])\n",
    "\n",
    "                if df_out is None:\n",
    "                    df_out = pd.DataFrame(columns=atom_df.columns)\n",
    "\n",
    "                df_out = pd.concat([df_out, atom_df], ignore_index=True)\n",
    "\n",
    "        # Clean up remaining files\n",
    "        try:\n",
    "            os.remove(temp_path + 'mol.ac')\n",
    "            os.remove(temp_path + 'mol.sdf')\n",
    "        except IOError:\n",
    "            print('Something went wrong.')\n",
    "\n",
    "        df_list.append(df_out)"
   ]
  },
  {
   "cell_type": "code",
   "execution_count": 6,
   "id": "380fd555-bc62-472d-a95e-59e312807e31",
   "metadata": {},
   "outputs": [],
   "source": [
    "class PreprocessingThread(threading.Thread):\n",
    "    def __init__(self, file_name):\n",
    "        threading.Thread.__init__(self)\n",
    "        self.file_name = file_name\n",
    "\n",
    "    def run(self):\n",
    "        print(\"Starting \" + self.file_name)\n",
    "        preprocess(self.file_name)\n",
    "        print(\"Exiting \" + self.file_name)"
   ]
  },
  {
   "cell_type": "code",
   "execution_count": 7,
   "id": "94dc72eb-3a4c-44b9-88e4-8a6de55371bd",
   "metadata": {
    "tags": []
   },
   "outputs": [],
   "source": [
    "def main():\n",
    "    preprocess()\n",
    "\n",
    "    # Concatenate dfs in the list\n",
    "    main_df = pd.concat(df_list, ignore_index=True)\n",
    "    main_df.to_csv('./data/data.csv', index=False)"
   ]
  },
  {
   "cell_type": "code",
   "execution_count": null,
   "id": "d00171fc-6d66-40a2-a1b1-6299a634041a",
   "metadata": {
    "tags": []
   },
   "outputs": [
    {
     "data": {
      "application/vnd.jupyter.widget-view+json": {
       "model_id": "a5a9510c0e7249889ebfe93c7f6abf52",
       "version_major": 2,
       "version_minor": 0
      },
      "text/plain": [
       "  0%|          | 0/133885 [00:00<?, ?it/s]"
      ]
     },
     "metadata": {},
     "output_type": "display_data"
    }
   ],
   "source": [
    "if __name__ == \"__main__\":\n",
    "    if not in_ipython():\n",
    "        root_dir = os.path.dirname(os.path.realpath(__file__))\n",
    "\n",
    "        main()\n",
    "    else:\n",
    "        main()"
   ]
  }
 ],
 "metadata": {
  "kernelspec": {
   "display_name": "Python 3 (ipykernel)",
   "language": "python",
   "name": "python3"
  },
  "language_info": {
   "codemirror_mode": {
    "name": "ipython",
    "version": 3
   },
   "file_extension": ".py",
   "mimetype": "text/x-python",
   "name": "python",
   "nbconvert_exporter": "python",
   "pygments_lexer": "ipython3",
   "version": "3.9.13"
  }
 },
 "nbformat": 4,
 "nbformat_minor": 5
}
