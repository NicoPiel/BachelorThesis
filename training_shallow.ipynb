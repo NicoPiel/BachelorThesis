{
 "cells": [
  {
   "cell_type": "code",
   "execution_count": 1,
   "id": "00af9236-4b43-4fd5-a6a5-65943b305eb2",
   "metadata": {},
   "outputs": [],
   "source": [
    "import numpy as np\n",
    "import pandas as pd\n",
    "\n",
    "import sklearn as skl\n",
    "from sklearn.pipeline import Pipeline\n",
    "from sklearn.model_selection import train_test_split\n",
    "from sklearn import preprocessing\n",
    "from sklearn.svm import LinearSVC\n",
    "from sklearn import metrics\n",
    "from sklearn.tree import DecisionTreeClassifier\n",
    "from sklearn.linear_model import LogisticRegression\n",
    "import optuna\n",
    "from optuna.integration.wandb import WeightsAndBiasesCallback\n",
    "from sklearn.neighbors import KNeighborsClassifier"
   ]
  },
  {
   "cell_type": "code",
   "execution_count": 2,
   "id": "55178e17-578e-4b49-9c3b-f316532ac9eb",
   "metadata": {},
   "outputs": [],
   "source": [
    "df = pd.read_csv('./data/data.csv')"
   ]
  },
  {
   "cell_type": "code",
   "execution_count": 3,
   "id": "229e6e02-7319-4b1b-96e3-3229f9d8e0b9",
   "metadata": {
    "tags": []
   },
   "outputs": [
    {
     "data": {
      "text/html": [
       "<div>\n",
       "<style scoped>\n",
       "    .dataframe tbody tr th:only-of-type {\n",
       "        vertical-align: middle;\n",
       "    }\n",
       "\n",
       "    .dataframe tbody tr th {\n",
       "        vertical-align: top;\n",
       "    }\n",
       "\n",
       "    .dataframe thead th {\n",
       "        text-align: right;\n",
       "    }\n",
       "</style>\n",
       "<table border=\"1\" class=\"dataframe\">\n",
       "  <thead>\n",
       "    <tr style=\"text-align: right;\">\n",
       "      <th></th>\n",
       "      <th>name</th>\n",
       "      <th>type</th>\n",
       "      <th>C</th>\n",
       "      <th>H</th>\n",
       "      <th>N</th>\n",
       "      <th>O</th>\n",
       "      <th>S</th>\n",
       "      <th>F</th>\n",
       "      <th>Cl</th>\n",
       "      <th>Br</th>\n",
       "      <th>I</th>\n",
       "      <th>Other</th>\n",
       "    </tr>\n",
       "  </thead>\n",
       "  <tbody>\n",
       "    <tr>\n",
       "      <th>0</th>\n",
       "      <td>S1</td>\n",
       "      <td>sy</td>\n",
       "      <td>1</td>\n",
       "      <td>0</td>\n",
       "      <td>1</td>\n",
       "      <td>2</td>\n",
       "      <td>0</td>\n",
       "      <td>0</td>\n",
       "      <td>0</td>\n",
       "      <td>0</td>\n",
       "      <td>0</td>\n",
       "      <td>0</td>\n",
       "    </tr>\n",
       "    <tr>\n",
       "      <th>1</th>\n",
       "      <td>O1</td>\n",
       "      <td>o</td>\n",
       "      <td>0</td>\n",
       "      <td>0</td>\n",
       "      <td>0</td>\n",
       "      <td>0</td>\n",
       "      <td>1</td>\n",
       "      <td>0</td>\n",
       "      <td>0</td>\n",
       "      <td>0</td>\n",
       "      <td>0</td>\n",
       "      <td>0</td>\n",
       "    </tr>\n",
       "  </tbody>\n",
       "</table>\n",
       "</div>"
      ],
      "text/plain": [
       "  name type  C  H  N  O  S  F  Cl  Br  I  Other\n",
       "0   S1   sy  1  0  1  2  0  0   0   0  0      0\n",
       "1   O1    o  0  0  0  0  1  0   0   0  0      0"
      ]
     },
     "execution_count": 3,
     "metadata": {},
     "output_type": "execute_result"
    }
   ],
   "source": [
    "df.head(2)"
   ]
  },
  {
   "cell_type": "code",
   "execution_count": 4,
   "id": "ca2f2403-7dd9-43b5-abad-f0d4fe292426",
   "metadata": {},
   "outputs": [
    {
     "name": "stderr",
     "output_type": "stream",
     "text": [
      "/home/npiel2s/miniconda3/envs/mm/lib/python3.9/site-packages/sklearn/preprocessing/_label.py:115: DataConversionWarning: A column-vector y was passed when a 1d array was expected. Please change the shape of y to (n_samples, ), for example using ravel().\n",
      "  y = column_or_1d(y, warn=True)\n"
     ]
    }
   ],
   "source": [
    "X = df.drop(columns=['type', 'name'])\n",
    "y = df['type']\n",
    "\n",
    "X_encoder = preprocessing.LabelEncoder()\n",
    "y_encoder = preprocessing.LabelEncoder()\n",
    "\n",
    "name_trans = X_encoder.fit_transform(df['name'].to_numpy().reshape(-1, 1))\n",
    "X = pd.concat([X, pd.DataFrame(name_trans)], axis=1)\n",
    "y = y_encoder.fit_transform(y.to_numpy().reshape(-1, 1))"
   ]
  },
  {
   "cell_type": "code",
   "execution_count": 5,
   "id": "335ace55-e433-4c47-acc5-266f0c1d1916",
   "metadata": {},
   "outputs": [
    {
     "data": {
      "text/html": [
       "<div>\n",
       "<style scoped>\n",
       "    .dataframe tbody tr th:only-of-type {\n",
       "        vertical-align: middle;\n",
       "    }\n",
       "\n",
       "    .dataframe tbody tr th {\n",
       "        vertical-align: top;\n",
       "    }\n",
       "\n",
       "    .dataframe thead th {\n",
       "        text-align: right;\n",
       "    }\n",
       "</style>\n",
       "<table border=\"1\" class=\"dataframe\">\n",
       "  <thead>\n",
       "    <tr style=\"text-align: right;\">\n",
       "      <th></th>\n",
       "      <th>C</th>\n",
       "      <th>H</th>\n",
       "      <th>N</th>\n",
       "      <th>O</th>\n",
       "      <th>S</th>\n",
       "      <th>F</th>\n",
       "      <th>Cl</th>\n",
       "      <th>Br</th>\n",
       "      <th>I</th>\n",
       "      <th>Other</th>\n",
       "      <th>0</th>\n",
       "    </tr>\n",
       "  </thead>\n",
       "  <tbody>\n",
       "    <tr>\n",
       "      <th>0</th>\n",
       "      <td>1</td>\n",
       "      <td>0</td>\n",
       "      <td>1</td>\n",
       "      <td>2</td>\n",
       "      <td>0</td>\n",
       "      <td>0</td>\n",
       "      <td>0</td>\n",
       "      <td>0</td>\n",
       "      <td>0</td>\n",
       "      <td>0</td>\n",
       "      <td>293</td>\n",
       "    </tr>\n",
       "    <tr>\n",
       "      <th>1</th>\n",
       "      <td>0</td>\n",
       "      <td>0</td>\n",
       "      <td>0</td>\n",
       "      <td>0</td>\n",
       "      <td>1</td>\n",
       "      <td>0</td>\n",
       "      <td>0</td>\n",
       "      <td>0</td>\n",
       "      <td>0</td>\n",
       "      <td>0</td>\n",
       "      <td>241</td>\n",
       "    </tr>\n",
       "  </tbody>\n",
       "</table>\n",
       "</div>"
      ],
      "text/plain": [
       "   C  H  N  O  S  F  Cl  Br  I  Other    0\n",
       "0  1  0  1  2  0  0   0   0  0      0  293\n",
       "1  0  0  0  0  1  0   0   0  0      0  241"
      ]
     },
     "execution_count": 5,
     "metadata": {},
     "output_type": "execute_result"
    }
   ],
   "source": [
    "X.head(2)"
   ]
  },
  {
   "cell_type": "code",
   "execution_count": 6,
   "id": "fb231902-4112-4030-9f1d-16cf2596678b",
   "metadata": {},
   "outputs": [
    {
     "data": {
      "text/plain": [
       "array([81, 67, 67, ..., 22, 22, 28])"
      ]
     },
     "execution_count": 6,
     "metadata": {},
     "output_type": "execute_result"
    }
   ],
   "source": [
    "y"
   ]
  },
  {
   "cell_type": "code",
   "execution_count": 7,
   "id": "e660423b-91d7-4654-824f-95ec71e168df",
   "metadata": {},
   "outputs": [],
   "source": [
    "X_train, X_test, y_train, y_test = train_test_split(X, y, random_state=0)"
   ]
  },
  {
   "cell_type": "code",
   "execution_count": 8,
   "id": "9c22ca84-9d66-43d5-8ecc-10fac6b54848",
   "metadata": {},
   "outputs": [],
   "source": [
    "def objective(trial):\n",
    "    dtc = DecisionTreeClassifier(\n",
    "        max_depth=trial.suggest_int('max_depth', 1, 1000),\n",
    "        min_samples_split=trial.suggest_int('min_samples_split', 2, 100),\n",
    "        min_samples_leaf=trial.suggest_int('min_samples_leaf', 1, 100),\n",
    "        min_weight_fraction_leaf=trial.suggest_float('min_weight_fraction_leaf', 0.0, 0.5),\n",
    "        max_features=trial.suggest_float('max_features', 0.1, 1.0),\n",
    "        max_leaf_nodes=trial.suggest_int('max_leaf_nodes', 1, 1000),\n",
    "        class_weight='balanced',\n",
    "        random_state=0\n",
    "    )\n",
    "\n",
    "    y_hat = dtc.fit(X_train, y_train).predict(X_test)\n",
    "\n",
    "    #print(y_hat)\n",
    "\n",
    "    return metrics.f1_score(y_test, y_hat, average='macro')\n",
    "\n",
    "\n",
    "def objective_logreg(trial):\n",
    "    logreg = LogisticRegression(\n",
    "        C=trial.suggest_float('C', 0.0, 100.0),\n",
    "        class_weight='balanced',\n",
    "        multi_class='multinomial',\n",
    "        solver='saga',\n",
    "        random_state=0\n",
    "    )\n",
    "\n",
    "    y_hat = logreg.fit(X_train, y_train).predict(X_test)\n",
    "\n",
    "    print(y_hat)\n",
    "\n",
    "    return metrics.f1_score(y_test, y_hat, average='macro')\n",
    "\n",
    "\n",
    "def objective_knn(trial):\n",
    "    knn = KNeighborsClassifier(\n",
    "        n_neighbors=trial.suggest_int('n_neighbors', 1, 200),\n",
    "        leaf_size=trial.suggest_int('leaf_size', 1, 500),\n",
    "        p=trial.suggest_int('p', 1, 50),\n",
    "        n_jobs=-1\n",
    "    ).fit(X_train, y_train)\n",
    "\n",
    "    y_hat = knn.predict(X_test)\n",
    "\n",
    "    return metrics.f1_score(y_test, y_hat, average='macro') "
   ]
  },
  {
   "cell_type": "code",
   "execution_count": null,
   "id": "aa46a94f-4f5a-42e6-aa3f-3b06b60aab2b",
   "metadata": {
    "tags": []
   },
   "outputs": [
    {
     "name": "stderr",
     "output_type": "stream",
     "text": [
      "\u001b[32m[I 2022-09-11 21:04:15,229]\u001b[0m A new study created in memory with name: no-name-c59cc6b4-234e-4808-a60e-9efa7dffdc44\u001b[0m\n",
      "/tmp/ipykernel_21109/510059759.py:4: ExperimentalWarning: WeightsAndBiasesCallback is experimental (supported from v2.9.0). The interface can change in the future.\n",
      "  wandbc = WeightsAndBiasesCallback(metric_name='F1', wandb_kwargs=wandb_kwargs)\n",
      "\u001b[34m\u001b[1mwandb\u001b[0m: Currently logged in as: \u001b[33mcaigh\u001b[0m. Use \u001b[1m`wandb login --relogin`\u001b[0m to force relogin\n"
     ]
    },
    {
     "data": {
      "text/html": [
       "wandb version 0.13.3 is available!  To upgrade, please run:\n",
       " $ pip install wandb --upgrade"
      ],
      "text/plain": [
       "<IPython.core.display.HTML object>"
      ]
     },
     "metadata": {},
     "output_type": "display_data"
    },
    {
     "data": {
      "text/html": [
       "Tracking run with wandb version 0.13.1"
      ],
      "text/plain": [
       "<IPython.core.display.HTML object>"
      ]
     },
     "metadata": {},
     "output_type": "display_data"
    },
    {
     "data": {
      "text/html": [
       "Run data is saved locally in <code>/home/npiel2s/dev/BachelorThesis/wandb/run-20220911_210417-ycs9p958</code>"
      ],
      "text/plain": [
       "<IPython.core.display.HTML object>"
      ]
     },
     "metadata": {},
     "output_type": "display_data"
    },
    {
     "data": {
      "text/html": [
       "Syncing run <strong><a href=\"https://wandb.ai/caigh/bachelor/runs/ycs9p958\" target=\"_blank\">glamorous-firebrand-117</a></strong> to <a href=\"https://wandb.ai/caigh/bachelor\" target=\"_blank\">Weights & Biases</a> (<a href=\"https://wandb.me/run\" target=\"_blank\">docs</a>)<br/>"
      ],
      "text/plain": [
       "<IPython.core.display.HTML object>"
      ]
     },
     "metadata": {},
     "output_type": "display_data"
    },
    {
     "name": "stderr",
     "output_type": "stream",
     "text": [
      "/home/npiel2s/miniconda3/envs/mm/lib/python3.9/site-packages/sklearn/utils/validation.py:1858: FutureWarning: Feature names only support names that are all strings. Got feature names with dtypes: ['int', 'str']. An error will be raised in 1.2.\n",
      "  warnings.warn(\n",
      "/home/npiel2s/miniconda3/envs/mm/lib/python3.9/site-packages/sklearn/utils/validation.py:1858: FutureWarning: Feature names only support names that are all strings. Got feature names with dtypes: ['int', 'str']. An error will be raised in 1.2.\n",
      "  warnings.warn(\n",
      "\u001b[32m[I 2022-09-11 21:46:29,065]\u001b[0m Trial 0 finished with value: 0.3128000424247529 and parameters: {'n_neighbors': 55, 'leaf_size': 275, 'p': 29}. Best is trial 0 with value: 0.3128000424247529.\u001b[0m\n",
      "/home/npiel2s/miniconda3/envs/mm/lib/python3.9/site-packages/sklearn/utils/validation.py:1858: FutureWarning: Feature names only support names that are all strings. Got feature names with dtypes: ['int', 'str']. An error will be raised in 1.2.\n",
      "  warnings.warn(\n",
      "/home/npiel2s/miniconda3/envs/mm/lib/python3.9/site-packages/sklearn/utils/validation.py:1858: FutureWarning: Feature names only support names that are all strings. Got feature names with dtypes: ['int', 'str']. An error will be raised in 1.2.\n",
      "  warnings.warn(\n",
      "\u001b[32m[I 2022-09-11 22:26:49,334]\u001b[0m Trial 1 finished with value: 0.304437168234546 and parameters: {'n_neighbors': 69, 'leaf_size': 63, 'p': 10}. Best is trial 0 with value: 0.3128000424247529.\u001b[0m\n",
      "/home/npiel2s/miniconda3/envs/mm/lib/python3.9/site-packages/sklearn/utils/validation.py:1858: FutureWarning: Feature names only support names that are all strings. Got feature names with dtypes: ['int', 'str']. An error will be raised in 1.2.\n",
      "  warnings.warn(\n",
      "/home/npiel2s/miniconda3/envs/mm/lib/python3.9/site-packages/sklearn/utils/validation.py:1858: FutureWarning: Feature names only support names that are all strings. Got feature names with dtypes: ['int', 'str']. An error will be raised in 1.2.\n",
      "  warnings.warn(\n",
      "\u001b[32m[I 2022-09-11 23:08:07,149]\u001b[0m Trial 2 finished with value: 0.304528173387108 and parameters: {'n_neighbors': 100, 'leaf_size': 282, 'p': 30}. Best is trial 0 with value: 0.3128000424247529.\u001b[0m\n",
      "/home/npiel2s/miniconda3/envs/mm/lib/python3.9/site-packages/sklearn/utils/validation.py:1858: FutureWarning: Feature names only support names that are all strings. Got feature names with dtypes: ['int', 'str']. An error will be raised in 1.2.\n",
      "  warnings.warn(\n",
      "/home/npiel2s/miniconda3/envs/mm/lib/python3.9/site-packages/sklearn/utils/validation.py:1858: FutureWarning: Feature names only support names that are all strings. Got feature names with dtypes: ['int', 'str']. An error will be raised in 1.2.\n",
      "  warnings.warn(\n",
      "\u001b[32m[I 2022-09-11 23:51:56,263]\u001b[0m Trial 3 finished with value: 0.3633661287628684 and parameters: {'n_neighbors': 20, 'leaf_size': 83, 'p': 17}. Best is trial 3 with value: 0.3633661287628684.\u001b[0m\n",
      "/home/npiel2s/miniconda3/envs/mm/lib/python3.9/site-packages/sklearn/utils/validation.py:1858: FutureWarning: Feature names only support names that are all strings. Got feature names with dtypes: ['int', 'str']. An error will be raised in 1.2.\n",
      "  warnings.warn(\n",
      "/home/npiel2s/miniconda3/envs/mm/lib/python3.9/site-packages/sklearn/utils/validation.py:1858: FutureWarning: Feature names only support names that are all strings. Got feature names with dtypes: ['int', 'str']. An error will be raised in 1.2.\n",
      "  warnings.warn(\n",
      "\u001b[32m[I 2022-09-12 00:35:21,960]\u001b[0m Trial 4 finished with value: 0.3293460385387189 and parameters: {'n_neighbors': 43, 'leaf_size': 226, 'p': 22}. Best is trial 3 with value: 0.3633661287628684.\u001b[0m\n",
      "/home/npiel2s/miniconda3/envs/mm/lib/python3.9/site-packages/sklearn/utils/validation.py:1858: FutureWarning: Feature names only support names that are all strings. Got feature names with dtypes: ['int', 'str']. An error will be raised in 1.2.\n",
      "  warnings.warn(\n",
      "/home/npiel2s/miniconda3/envs/mm/lib/python3.9/site-packages/sklearn/utils/validation.py:1858: FutureWarning: Feature names only support names that are all strings. Got feature names with dtypes: ['int', 'str']. An error will be raised in 1.2.\n",
      "  warnings.warn(\n",
      "\u001b[32m[I 2022-09-12 01:19:48,939]\u001b[0m Trial 5 finished with value: 0.2649993323388718 and parameters: {'n_neighbors': 187, 'leaf_size': 61, 'p': 42}. Best is trial 3 with value: 0.3633661287628684.\u001b[0m\n",
      "/home/npiel2s/miniconda3/envs/mm/lib/python3.9/site-packages/sklearn/utils/validation.py:1858: FutureWarning: Feature names only support names that are all strings. Got feature names with dtypes: ['int', 'str']. An error will be raised in 1.2.\n",
      "  warnings.warn(\n",
      "/home/npiel2s/miniconda3/envs/mm/lib/python3.9/site-packages/sklearn/utils/validation.py:1858: FutureWarning: Feature names only support names that are all strings. Got feature names with dtypes: ['int', 'str']. An error will be raised in 1.2.\n",
      "  warnings.warn(\n",
      "\u001b[32m[I 2022-09-12 02:06:07,086]\u001b[0m Trial 6 finished with value: 0.28638115686170007 and parameters: {'n_neighbors': 131, 'leaf_size': 56, 'p': 24}. Best is trial 3 with value: 0.3633661287628684.\u001b[0m\n",
      "/home/npiel2s/miniconda3/envs/mm/lib/python3.9/site-packages/sklearn/utils/validation.py:1858: FutureWarning: Feature names only support names that are all strings. Got feature names with dtypes: ['int', 'str']. An error will be raised in 1.2.\n",
      "  warnings.warn(\n",
      "/home/npiel2s/miniconda3/envs/mm/lib/python3.9/site-packages/sklearn/utils/validation.py:1858: FutureWarning: Feature names only support names that are all strings. Got feature names with dtypes: ['int', 'str']. An error will be raised in 1.2.\n",
      "  warnings.warn(\n",
      "\u001b[32m[I 2022-09-12 02:48:02,859]\u001b[0m Trial 7 finished with value: 0.30519130976399456 and parameters: {'n_neighbors': 113, 'leaf_size': 362, 'p': 40}. Best is trial 3 with value: 0.3633661287628684.\u001b[0m\n",
      "/home/npiel2s/miniconda3/envs/mm/lib/python3.9/site-packages/sklearn/utils/validation.py:1858: FutureWarning: Feature names only support names that are all strings. Got feature names with dtypes: ['int', 'str']. An error will be raised in 1.2.\n",
      "  warnings.warn(\n",
      "/home/npiel2s/miniconda3/envs/mm/lib/python3.9/site-packages/sklearn/utils/validation.py:1858: FutureWarning: Feature names only support names that are all strings. Got feature names with dtypes: ['int', 'str']. An error will be raised in 1.2.\n",
      "  warnings.warn(\n",
      "\u001b[32m[I 2022-09-12 03:29:19,680]\u001b[0m Trial 8 finished with value: 0.3720275869136156 and parameters: {'n_neighbors': 9, 'leaf_size': 314, 'p': 31}. Best is trial 8 with value: 0.3720275869136156.\u001b[0m\n",
      "/home/npiel2s/miniconda3/envs/mm/lib/python3.9/site-packages/sklearn/utils/validation.py:1858: FutureWarning: Feature names only support names that are all strings. Got feature names with dtypes: ['int', 'str']. An error will be raised in 1.2.\n",
      "  warnings.warn(\n",
      "/home/npiel2s/miniconda3/envs/mm/lib/python3.9/site-packages/sklearn/utils/validation.py:1858: FutureWarning: Feature names only support names that are all strings. Got feature names with dtypes: ['int', 'str']. An error will be raised in 1.2.\n",
      "  warnings.warn(\n",
      "\u001b[32m[I 2022-09-12 04:12:43,137]\u001b[0m Trial 9 finished with value: 0.3139682924355709 and parameters: {'n_neighbors': 60, 'leaf_size': 377, 'p': 13}. Best is trial 8 with value: 0.3720275869136156.\u001b[0m\n",
      "/home/npiel2s/miniconda3/envs/mm/lib/python3.9/site-packages/sklearn/utils/validation.py:1858: FutureWarning: Feature names only support names that are all strings. Got feature names with dtypes: ['int', 'str']. An error will be raised in 1.2.\n",
      "  warnings.warn(\n",
      "/home/npiel2s/miniconda3/envs/mm/lib/python3.9/site-packages/sklearn/utils/validation.py:1858: FutureWarning: Feature names only support names that are all strings. Got feature names with dtypes: ['int', 'str']. An error will be raised in 1.2.\n",
      "  warnings.warn(\n",
      "\u001b[32m[I 2022-09-12 04:38:05,759]\u001b[0m Trial 10 finished with value: 0.38445905688092924 and parameters: {'n_neighbors': 6, 'leaf_size': 500, 'p': 1}. Best is trial 10 with value: 0.38445905688092924.\u001b[0m\n",
      "/home/npiel2s/miniconda3/envs/mm/lib/python3.9/site-packages/sklearn/utils/validation.py:1858: FutureWarning: Feature names only support names that are all strings. Got feature names with dtypes: ['int', 'str']. An error will be raised in 1.2.\n",
      "  warnings.warn(\n",
      "/home/npiel2s/miniconda3/envs/mm/lib/python3.9/site-packages/sklearn/utils/validation.py:1858: FutureWarning: Feature names only support names that are all strings. Got feature names with dtypes: ['int', 'str']. An error will be raised in 1.2.\n",
      "  warnings.warn(\n",
      "\u001b[32m[I 2022-09-12 05:20:56,867]\u001b[0m Trial 11 finished with value: 0.3809530854266973 and parameters: {'n_neighbors': 5, 'leaf_size': 499, 'p': 3}. Best is trial 10 with value: 0.38445905688092924.\u001b[0m\n",
      "/home/npiel2s/miniconda3/envs/mm/lib/python3.9/site-packages/sklearn/utils/validation.py:1858: FutureWarning: Feature names only support names that are all strings. Got feature names with dtypes: ['int', 'str']. An error will be raised in 1.2.\n",
      "  warnings.warn(\n",
      "/home/npiel2s/miniconda3/envs/mm/lib/python3.9/site-packages/sklearn/utils/validation.py:1858: FutureWarning: Feature names only support names that are all strings. Got feature names with dtypes: ['int', 'str']. An error will be raised in 1.2.\n",
      "  warnings.warn(\n",
      "\u001b[32m[I 2022-09-12 05:45:43,964]\u001b[0m Trial 12 finished with value: 0.3844840980338326 and parameters: {'n_neighbors': 4, 'leaf_size': 490, 'p': 1}. Best is trial 12 with value: 0.3844840980338326.\u001b[0m\n",
      "/home/npiel2s/miniconda3/envs/mm/lib/python3.9/site-packages/sklearn/utils/validation.py:1858: FutureWarning: Feature names only support names that are all strings. Got feature names with dtypes: ['int', 'str']. An error will be raised in 1.2.\n",
      "  warnings.warn(\n",
      "/home/npiel2s/miniconda3/envs/mm/lib/python3.9/site-packages/sklearn/utils/validation.py:1858: FutureWarning: Feature names only support names that are all strings. Got feature names with dtypes: ['int', 'str']. An error will be raised in 1.2.\n",
      "  warnings.warn(\n",
      "\u001b[32m[I 2022-09-12 06:10:59,465]\u001b[0m Trial 13 finished with value: 0.35452448824573507 and parameters: {'n_neighbors': 31, 'leaf_size': 458, 'p': 1}. Best is trial 12 with value: 0.3844840980338326.\u001b[0m\n",
      "/home/npiel2s/miniconda3/envs/mm/lib/python3.9/site-packages/sklearn/utils/validation.py:1858: FutureWarning: Feature names only support names that are all strings. Got feature names with dtypes: ['int', 'str']. An error will be raised in 1.2.\n",
      "  warnings.warn(\n",
      "/home/npiel2s/miniconda3/envs/mm/lib/python3.9/site-packages/sklearn/utils/validation.py:1858: FutureWarning: Feature names only support names that are all strings. Got feature names with dtypes: ['int', 'str']. An error will be raised in 1.2.\n",
      "  warnings.warn(\n",
      "\u001b[32m[I 2022-09-12 06:54:07,916]\u001b[0m Trial 14 finished with value: 0.3992539208877978 and parameters: {'n_neighbors': 1, 'leaf_size': 432, 'p': 8}. Best is trial 14 with value: 0.3992539208877978.\u001b[0m\n",
      "/home/npiel2s/miniconda3/envs/mm/lib/python3.9/site-packages/sklearn/utils/validation.py:1858: FutureWarning: Feature names only support names that are all strings. Got feature names with dtypes: ['int', 'str']. An error will be raised in 1.2.\n",
      "  warnings.warn(\n",
      "/home/npiel2s/miniconda3/envs/mm/lib/python3.9/site-packages/sklearn/utils/validation.py:1858: FutureWarning: Feature names only support names that are all strings. Got feature names with dtypes: ['int', 'str']. An error will be raised in 1.2.\n",
      "  warnings.warn(\n",
      "\u001b[32m[I 2022-09-12 07:37:31,117]\u001b[0m Trial 15 finished with value: 0.29542052103448607 and parameters: {'n_neighbors': 86, 'leaf_size': 410, 'p': 8}. Best is trial 14 with value: 0.3992539208877978.\u001b[0m\n",
      "/home/npiel2s/miniconda3/envs/mm/lib/python3.9/site-packages/sklearn/utils/validation.py:1858: FutureWarning: Feature names only support names that are all strings. Got feature names with dtypes: ['int', 'str']. An error will be raised in 1.2.\n",
      "  warnings.warn(\n",
      "/home/npiel2s/miniconda3/envs/mm/lib/python3.9/site-packages/sklearn/utils/validation.py:1858: FutureWarning: Feature names only support names that are all strings. Got feature names with dtypes: ['int', 'str']. An error will be raised in 1.2.\n",
      "  warnings.warn(\n"
     ]
    }
   ],
   "source": [
    "study = optuna.create_study(direction='maximize')\n",
    "\n",
    "wandb_kwargs = {\"project\": \"bachelor\"}\n",
    "wandbc = WeightsAndBiasesCallback(metric_name='F1', wandb_kwargs=wandb_kwargs)\n",
    "\n",
    "study.optimize(objective_knn, n_trials=20, callbacks=[wandbc])"
   ]
  }
 ],
 "metadata": {
  "kernelspec": {
   "display_name": "Python 3 (ipykernel)",
   "language": "python",
   "name": "python3"
  },
  "language_info": {
   "codemirror_mode": {
    "name": "ipython",
    "version": 3
   },
   "file_extension": ".py",
   "mimetype": "text/x-python",
   "name": "python",
   "nbconvert_exporter": "python",
   "pygments_lexer": "ipython3",
   "version": "3.9.13"
  }
 },
 "nbformat": 4,
 "nbformat_minor": 5
}
