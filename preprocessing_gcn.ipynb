{
 "cells": [
  {
   "cell_type": "code",
   "execution_count": 2,
   "id": "c2a51e7f-23eb-48f3-ae10-1d5c128b4a97",
   "metadata": {},
   "outputs": [],
   "source": [
    "import pandas as pd\n",
    "import numpy as np\n",
    "import os\n",
    "import re\n",
    "import subprocess\n",
    "from glob import glob\n",
    "\n",
    "import matplotlib.pyplot as plt\n",
    "\n",
    "from tqdm.notebook import tqdm\n",
    "from rdkit import Chem\n",
    "from rdkit.Chem import Descriptors, Descriptors3D, ChemicalFeatures, GraphDescriptors, Lipinski, rdchem\n",
    "from rdkit.Chem.rdchem import Mol, Atom, Bond\n",
    "from rdkit.Chem.rdmolfiles import SDMolSupplier, SDWriter\n",
    "from rdkit.rdBase import BlockLogs\n",
    "import datamol as dm\n",
    "import multiprocessing\n",
    "import networkx as nx\n",
    "\n",
    "%matplotlib inline\n",
    "\n",
    "temp_path = './temp'\n",
    "data_path = './data'\n",
    "graph_data_path = './graph_data'\n",
    "\n",
    "if not os.path.exists(temp_path):\n",
    "    os.mkdir(temp_path)"
   ]
  },
  {
   "cell_type": "code",
   "execution_count": 3,
   "id": "cf3f8dc3-b87a-4f9c-ac64-4f55deac03ee",
   "metadata": {},
   "outputs": [
    {
     "name": "stdout",
     "output_type": "stream",
     "text": [
      "total xyz filepath #  133885\n"
     ]
    },
    {
     "data": {
      "text/plain": [
       "'./data/dsgdb9nsd_000001.xyz'"
      ]
     },
     "execution_count": 3,
     "metadata": {},
     "output_type": "execute_result"
    }
   ],
   "source": [
    "xyz_filepath_list = list(glob(f'{data_path}/*.xyz'))\n",
    "\n",
    "xyz_filepath_list.sort()\n",
    "print('total xyz filepath # ', len(xyz_filepath_list))\n",
    "xyz_filepath_list[0]"
   ]
  },
  {
   "cell_type": "code",
   "execution_count": 4,
   "id": "7851492b-596d-4cfe-891b-be26f3d46020",
   "metadata": {},
   "outputs": [
    {
     "data": {
      "application/vnd.jupyter.widget-view+json": {
       "model_id": "6ec2a2a3f8d44a6da83a23dc20eb3b7a",
       "version_major": 2,
       "version_minor": 0
      },
      "text/plain": [
       "  0%|          | 0/133885 [00:00<?, ?it/s]"
      ]
     },
     "metadata": {},
     "output_type": "display_data"
    }
   ],
   "source": [
    "def check_missing_files() -> None:\n",
    "    \"\"\"\n",
    "    Checks for missing .xyz QM9 files\n",
    "\n",
    "    Return\n",
    "        True | False: True, if all files are accounted for\n",
    "    \"\"\"\n",
    "    for file in tqdm(xyz_filepath_list):\n",
    "        if not os.path.exists(file):\n",
    "            print('Retrieving QM9..')\n",
    "            !wget https://figshare.com/ndownloader/files/3195389 -O ./data/data.bz2\n",
    "            !tar -xfu ./data/data.bz2\n",
    "            !rm ./data/*.bz2\n",
    "\n",
    "    if not os.path.exists(f'{data_path}/edrug3d.sdf'):\n",
    "        print('Retrieving edrug3d..')\n",
    "        !wget https://chemoinfo.ipmc.cnrs.fr/TMP/tmp.33880/e-Drug3D_2056.sdf -O ./data/edrug3d.sdf\n",
    "\n",
    "    return None\n",
    "\n",
    "\n",
    "check_missing_files()"
   ]
  },
  {
   "cell_type": "code",
   "execution_count": 5,
   "id": "9e5e2b0e-0d1e-4dba-9762-c3ea0e45360b",
   "metadata": {},
   "outputs": [],
   "source": [
    "def in_ipython():\n",
    "    try:\n",
    "        return __IPYTHON__\n",
    "    except NameError:\n",
    "        return False"
   ]
  },
  {
   "cell_type": "code",
   "execution_count": 6,
   "id": "fff1212f-05ec-4cee-b441-d16139ca0a33",
   "metadata": {
    "tags": []
   },
   "outputs": [
    {
     "data": {
      "application/vnd.jupyter.widget-view+json": {
       "model_id": "a981658ff10b422f8684a26c05696235",
       "version_major": 2,
       "version_minor": 0
      },
      "text/plain": [
       "  0%|          | 0/133885 [00:00<?, ?it/s]"
      ]
     },
     "metadata": {},
     "output_type": "display_data"
    },
    {
     "name": "stdout",
     "output_type": "stream",
     "text": [
      "Done\n"
     ]
    }
   ],
   "source": [
    "manager = multiprocessing.Manager()\n",
    "molecules = manager.list()\n",
    "\n",
    "\n",
    "def xyz2mol(m):\n",
    "    blockedLogs = BlockLogs()\n",
    "\n",
    "    with open(m) as file:\n",
    "        lines = file.readlines()\n",
    "\n",
    "        smiles = lines[len(lines) - 2].split()[0]\n",
    "        smiles = dm.standardize_smiles(smiles)\n",
    "\n",
    "        mol = dm.to_mol(smiles, add_hs=True, sanitize=True, ordered=True)\n",
    "        mol = dm.fix_mol(mol)\n",
    "        dm.align.compute_2d_coords(mol)\n",
    "        # dm.conformers.generate(mol)\n",
    "\n",
    "        molecules.append(mol)\n",
    "\n",
    "\n",
    "def e3d2mol():\n",
    "    blockedLogs = BlockLogs()\n",
    "\n",
    "    mols = dm.read_sdf(f'{data_path}/edrug3d.sdf', remove_hs=False)\n",
    "    molecules.extend(mols)\n",
    "\n",
    "\n",
    "# Not working yet\n",
    "# e3d2mol()\n",
    "\n",
    "dm.parallelized(xyz2mol,\n",
    "                xyz_filepath_list,\n",
    "                n_jobs=-1,\n",
    "                progress=True,\n",
    "                arg_type='arg',\n",
    "                total=len(xyz_filepath_list))\n",
    "\n",
    "print('Done')"
   ]
  },
  {
   "cell_type": "code",
   "execution_count": 7,
   "id": "f9244723-627b-40d1-8cb4-6a36bfd6806c",
   "metadata": {
    "tags": []
   },
   "outputs": [
    {
     "data": {
      "text/plain": [
       "133885"
      ]
     },
     "execution_count": 7,
     "metadata": {},
     "output_type": "execute_result"
    }
   ],
   "source": [
    "len(molecules)"
   ]
  },
  {
   "cell_type": "code",
   "execution_count": 46,
   "id": "a45bce74-cf1b-4df7-a106-926249e4f9cb",
   "metadata": {},
   "outputs": [],
   "source": [
    "def preprocess():\n",
    "    graphs_df = None\n",
    "    nodes_df = None\n",
    "    bonds_df = None\n",
    "\n",
    "    line_split_re = re.compile(r'\\s+')\n",
    "\n",
    "    index = 0\n",
    "\n",
    "    for mol in tqdm(molecules):\n",
    "        mol: rdchem.Mol\n",
    "\n",
    "        if mol is None:\n",
    "            continue\n",
    "\n",
    "        mol = Chem.AddHs(mol)\n",
    "\n",
    "        # Mol.Compute2DCoords(mol)\n",
    "\n",
    "        mol_nodes_df = None\n",
    "        mol_bonds_df = None\n",
    "\n",
    "        with open(f'{temp_path}/{index}_mol.pdb', 'w') as file:\n",
    "            Chem.MolToPDBFile(mol, f'{temp_path}/{index}_mol.pdb')\n",
    "\n",
    "        # Run antechamber and divert output to a file (temporary)\n",
    "        subprocess.getoutput(\n",
    "            f'cd {temp_path} && antechamber -i {index}_mol.pdb -fi pdb -o {index}_mol.ac -fo ac -at gaff2 -pf y'\n",
    "        )\n",
    "\n",
    "        # Compute molecule-level info\n",
    "        graphs_args = {\n",
    "            'graph_id': index\n",
    "        }\n",
    "\n",
    "        mol_graph_df = pd.DataFrame(graphs_args, index=[0])\n",
    "\n",
    "        with open(f'{temp_path}/{index}_mol.ac') as file:\n",
    "            lines = [a for a in file.readlines() if 'ATOM' in a]\n",
    "\n",
    "            for atom in Mol.GetAtoms(mol):\n",
    "                atom: rdchem.Atom\n",
    "\n",
    "                atom_idx = atom.GetIdx()\n",
    "\n",
    "                line = lines[atom_idx]\n",
    "\n",
    "                a_split = line_split_re.split(line.strip())\n",
    "\n",
    "                if len(a_split) > 9:\n",
    "                    atom_type = a_split[9]\n",
    "                else:\n",
    "                    atom_type = a_split[8]\n",
    "\n",
    "                atom_args = {\n",
    "                    'graph_id': index,\n",
    "                    'node_id': atom_idx,\n",
    "                    'type': atom_type,\n",
    "                    'label': atom.GetSymbol(),\n",
    "                    'depDeg': atom.GetDegree(),\n",
    "                    'forC': atom.GetFormalCharge(),\n",
    "                    'isA': float(atom.GetIsAromatic()),\n",
    "                    'radEl': atom.GetNumRadicalElectrons(),\n",
    "                    'totDeg': atom.GetTotalDegree(),\n",
    "                    'totH': atom.GetTotalNumHs(),\n",
    "                    'totV': atom.GetTotalValence(),\n",
    "                    'isR': float(atom.IsInRing()),\n",
    "                }\n",
    "\n",
    "                # Append molecule info to every atom\n",
    "                atom_df = pd.DataFrame(atom_args, index=[0])\n",
    "\n",
    "                if mol_nodes_df is None:\n",
    "                    mol_nodes_df = pd.DataFrame(columns=atom_df.columns)\n",
    "\n",
    "                mol_nodes_df = pd.concat([mol_nodes_df, atom_df], ignore_index=True)\n",
    "\n",
    "        for bond in mol.GetBonds():\n",
    "            bond: rdchem.Bond\n",
    "\n",
    "            bond_args = {\n",
    "                'graph_id': index,\n",
    "                'src_id': bond.GetBeginAtomIdx(),\n",
    "                'dst_id': bond.GetEndAtomIdx(),\n",
    "                'label': bond.GetBondType(),\n",
    "                'bond_type': bond.GetBondTypeAsDouble()\n",
    "            }\n",
    "\n",
    "            atom_bonds_df = pd.DataFrame(bond_args, index=[0])\n",
    "\n",
    "            if mol_bonds_df is None:\n",
    "                mol_bonds_df = pd.DataFrame(columns=atom_bonds_df.columns)\n",
    "\n",
    "            mol_bonds_df = pd.concat([mol_bonds_df, atom_bonds_df], ignore_index=True)\n",
    "\n",
    "        # print(mol_bonds_df)\n",
    "        # print(mol_nodes_df)\n",
    "\n",
    "        if graphs_df is None:\n",
    "            graphs_df = pd.DataFrame(columns=mol_graph_df.columns)\n",
    "\n",
    "        if nodes_df is None:\n",
    "            nodes_df = pd.DataFrame(columns=mol_nodes_df.columns)\n",
    "\n",
    "        if bonds_df is None:\n",
    "            bonds_df = pd.DataFrame(columns=mol_bonds_df.columns)\n",
    "\n",
    "        graphs_df = pd.concat([graphs_df, mol_graph_df], ignore_index=True)\n",
    "        nodes_df = pd.concat([nodes_df, mol_nodes_df], ignore_index=True)\n",
    "        bonds_df = pd.concat([bonds_df, mol_bonds_df], ignore_index=True)\n",
    "\n",
    "        # Clean up remaining files\n",
    "        try:\n",
    "            os.remove(f'{temp_path}/{index}_mol.ac')\n",
    "            os.remove(f'{temp_path}/{index}_mol.pdb')\n",
    "        except IOError as e:\n",
    "            print(e)\n",
    "            print('Something went wrong.')\n",
    "\n",
    "        index += 1\n",
    "\n",
    "    graphs_df.to_csv(f'{graph_data_path}/graphs.csv')\n",
    "    nodes_df.to_csv(f'{graph_data_path}/nodes.csv')\n",
    "    bonds_df.to_csv(f'{graph_data_path}/bonds.csv')"
   ]
  },
  {
   "cell_type": "code",
   "execution_count": 47,
   "id": "94dc72eb-3a4c-44b9-88e4-8a6de55371bd",
   "metadata": {
    "tags": []
   },
   "outputs": [],
   "source": [
    "def main():\n",
    "    preprocess()"
   ]
  },
  {
   "cell_type": "code",
   "execution_count": null,
   "id": "d00171fc-6d66-40a2-a1b1-6299a634041a",
   "metadata": {
    "tags": []
   },
   "outputs": [
    {
     "data": {
      "application/vnd.jupyter.widget-view+json": {
       "model_id": "9b94a456f3974faf84bb7541f3e01a68",
       "version_major": 2,
       "version_minor": 0
      },
      "text/plain": [
       "  0%|          | 0/133885 [00:00<?, ?it/s]"
      ]
     },
     "metadata": {},
     "output_type": "display_data"
    }
   ],
   "source": [
    "if __name__ == \"__main__\":\n",
    "    if not in_ipython():\n",
    "        root_dir = os.path.dirname(os.path.realpath(__file__))\n",
    "\n",
    "        main()\n",
    "    else:\n",
    "        main()"
   ]
  }
 ],
 "metadata": {
  "kernelspec": {
   "display_name": "Python 3 (ipykernel)",
   "language": "python",
   "name": "python3"
  },
  "language_info": {
   "codemirror_mode": {
    "name": "ipython",
    "version": 3
   },
   "file_extension": ".py",
   "mimetype": "text/x-python",
   "name": "python",
   "nbconvert_exporter": "python",
   "pygments_lexer": "ipython3",
   "version": "3.9.13"
  }
 },
 "nbformat": 4,
 "nbformat_minor": 5
}
