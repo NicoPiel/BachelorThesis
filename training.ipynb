{
 "cells": [
  {
   "cell_type": "code",
   "execution_count": 2,
   "id": "840f1a55-6e23-4e19-b78e-732c782ef318",
   "metadata": {},
   "outputs": [
    {
     "name": "stderr",
     "output_type": "stream",
     "text": [
      "/home/caigh/miniconda3/envs/mm/lib/python3.9/site-packages/tqdm/auto.py:22: TqdmWarning: IProgress not found. Please update jupyter and ipywidgets. See https://ipywidgets.readthedocs.io/en/stable/user_install.html\n",
      "  from .autonotebook import tqdm as notebook_tqdm\n"
     ]
    },
    {
     "name": "stdout",
     "output_type": "stream",
     "text": [
      "CUDA: True\n"
     ]
    }
   ],
   "source": [
    "# Imports\n",
    "\n",
    "import torch\n",
    "import rdkit\n",
    "import openbabel\n",
    "\n",
    "print('CUDA:', torch.cuda.is_available())\n",
    "\n",
    "# Import GPU-related things\n",
    "if (torch.cuda.is_available()):\n",
    "    import cupy as np\n",
    "    import cudf as pd\n",
    "else:\n",
    "    import numpy as np\n",
    "    import pandas as pd"
   ]
  },
  {
   "cell_type": "code",
   "execution_count": 3,
   "id": "efc0aaba-9150-4830-94b9-d6d012e12e4f",
   "metadata": {},
   "outputs": [],
   "source": [
    "# Load e-Drug3D into pandas, so we can iterate over it.\n",
    "\n",
    "df = pd.read_csv('./data/edrug3d.csv')"
   ]
  },
  {
   "cell_type": "code",
   "execution_count": 4,
   "id": "11a632cd-df69-435b-8323-73165083753d",
   "metadata": {},
   "outputs": [
    {
     "data": {
      "text/html": [
       "<div>\n",
       "<style scoped>\n",
       "    .dataframe tbody tr th:only-of-type {\n",
       "        vertical-align: middle;\n",
       "    }\n",
       "\n",
       "    .dataframe tbody tr th {\n",
       "        vertical-align: top;\n",
       "    }\n",
       "\n",
       "    .dataframe thead th {\n",
       "        text-align: right;\n",
       "    }\n",
       "</style>\n",
       "<table border=\"1\" class=\"dataframe\">\n",
       "  <thead>\n",
       "    <tr style=\"text-align: right;\">\n",
       "      <th></th>\n",
       "      <th>smiles</th>\n",
       "      <th>types</th>\n",
       "    </tr>\n",
       "  </thead>\n",
       "  <tbody>\n",
       "    <tr>\n",
       "      <th>0</th>\n",
       "      <td>S(=O)(=O)(Nc1ncccc1)c1ccc(N)cc1</td>\n",
       "      <td>sy|o|o|nu|nb|nv|ca|ca|ca|ca|ca|ca|ca|ca|ca|ca|...</td>\n",
       "    </tr>\n",
       "    <tr>\n",
       "      <th>1</th>\n",
       "      <td>C([C@@H](NC(=O)[C@H](Cc1ccc(cc1)O)NC(=O)[C@@H]...</td>\n",
       "      <td>c3|c3|cc|ns|c|ca|cd|c|ns|o|ca|ca|na|c3|o|c3|ca...</td>\n",
       "    </tr>\n",
       "    <tr>\n",
       "      <th>2</th>\n",
       "      <td>[nH]1c(CCN)cnc1</td>\n",
       "      <td>na|n8|nc|c3|cd|c3|cc|cd|hc|hc|h1|h1|hn|h4|h5|h...</td>\n",
       "    </tr>\n",
       "    <tr>\n",
       "      <th>3</th>\n",
       "      <td>O=C1NC(=O)NC(=O)C1([C@@H](CC)C)CC</td>\n",
       "      <td>o|o|o|ns|ns|c3|c3|c3|c3|c|c|c3|c3|c3|c|hc|hc|h...</td>\n",
       "    </tr>\n",
       "    <tr>\n",
       "      <th>4</th>\n",
       "      <td>[C@@]12([C@H]([C@H]3[C@@H]([C@@]4(C(=CC(=O)CC4...</td>\n",
       "      <td>c3|c3|c2|c3|c3|c3|c3|ce|c3|c3|c3|c3|c3|c3|c|c3...</td>\n",
       "    </tr>\n",
       "    <tr>\n",
       "      <th>...</th>\n",
       "      <td>...</td>\n",
       "      <td>...</td>\n",
       "    </tr>\n",
       "    <tr>\n",
       "      <th>2023</th>\n",
       "      <td>n12c(c(ncn1)N)ccc2[C@]1([C@@H]([C@@H]([C@H](O1...</td>\n",
       "      <td>na|cc|cc|nd|cd|nc|cc|cd|cd|c3|c3|c3|c3|os|c3|o...</td>\n",
       "    </tr>\n",
       "    <tr>\n",
       "      <th>2024</th>\n",
       "      <td>n12c(c(ncn1)N)ccc2[C@]1([C@@H]([C@@H]([C@H](O1...</td>\n",
       "      <td>na|cc|cc|nd|cd|nc|cc|cd|cd|c3|c3|c3|c3|os|c3|o...</td>\n",
       "    </tr>\n",
       "    <tr>\n",
       "      <th>2025</th>\n",
       "      <td>[C@@H]12[C@]3(C[C@H]([C@@H]([C@@]1(COC3)C)OC[C...</td>\n",
       "      <td>c3|c3|c3|c3|c3|c3|c3|c3|c3|c2|c3|c3|c3|c2|c3|c...</td>\n",
       "    </tr>\n",
       "    <tr>\n",
       "      <th>2026</th>\n",
       "      <td>C1(=O)N(C(=O)C=C1)CCCCCC(=O)N(C)[C@H](C(=O)N[C...</td>\n",
       "      <td>c|n|c|cc|cd|o|o|c3|c3|c3|c3|c3|c|o|n|c3|c3|c|c...</td>\n",
       "    </tr>\n",
       "    <tr>\n",
       "      <th>2027</th>\n",
       "      <td>N1=C[C@H]2N(C(=O)c3c1cc(c(c3)OC)OCCCCCOc1cc3c(...</td>\n",
       "      <td>ne|ca|ca|c|n|c3|c2|ca|ca|ca|ca|c2|c2|c3|o|h1|o...</td>\n",
       "    </tr>\n",
       "  </tbody>\n",
       "</table>\n",
       "<p>2028 rows × 2 columns</p>\n",
       "</div>"
      ],
      "text/plain": [
       "                                                 smiles  \\\n",
       "0                       S(=O)(=O)(Nc1ncccc1)c1ccc(N)cc1   \n",
       "1     C([C@@H](NC(=O)[C@H](Cc1ccc(cc1)O)NC(=O)[C@@H]...   \n",
       "2                                       [nH]1c(CCN)cnc1   \n",
       "3                     O=C1NC(=O)NC(=O)C1([C@@H](CC)C)CC   \n",
       "4     [C@@]12([C@H]([C@H]3[C@@H]([C@@]4(C(=CC(=O)CC4...   \n",
       "...                                                 ...   \n",
       "2023  n12c(c(ncn1)N)ccc2[C@]1([C@@H]([C@@H]([C@H](O1...   \n",
       "2024  n12c(c(ncn1)N)ccc2[C@]1([C@@H]([C@@H]([C@H](O1...   \n",
       "2025  [C@@H]12[C@]3(C[C@H]([C@@H]([C@@]1(COC3)C)OC[C...   \n",
       "2026  C1(=O)N(C(=O)C=C1)CCCCCC(=O)N(C)[C@H](C(=O)N[C...   \n",
       "2027  N1=C[C@H]2N(C(=O)c3c1cc(c(c3)OC)OCCCCCOc1cc3c(...   \n",
       "\n",
       "                                                  types  \n",
       "0     sy|o|o|nu|nb|nv|ca|ca|ca|ca|ca|ca|ca|ca|ca|ca|...  \n",
       "1     c3|c3|cc|ns|c|ca|cd|c|ns|o|ca|ca|na|c3|o|c3|ca...  \n",
       "2     na|n8|nc|c3|cd|c3|cc|cd|hc|hc|h1|h1|hn|h4|h5|h...  \n",
       "3     o|o|o|ns|ns|c3|c3|c3|c3|c|c|c3|c3|c3|c|hc|hc|h...  \n",
       "4     c3|c3|c2|c3|c3|c3|c3|ce|c3|c3|c3|c3|c3|c3|c|c3...  \n",
       "...                                                 ...  \n",
       "2023  na|cc|cc|nd|cd|nc|cc|cd|cd|c3|c3|c3|c3|os|c3|o...  \n",
       "2024  na|cc|cc|nd|cd|nc|cc|cd|cd|c3|c3|c3|c3|os|c3|o...  \n",
       "2025  c3|c3|c3|c3|c3|c3|c3|c3|c3|c2|c3|c3|c3|c2|c3|c...  \n",
       "2026  c|n|c|cc|cd|o|o|c3|c3|c3|c3|c3|c|o|n|c3|c3|c|c...  \n",
       "2027  ne|ca|ca|c|n|c3|c2|ca|ca|ca|ca|c2|c2|c3|o|h1|o...  \n",
       "\n",
       "[2028 rows x 2 columns]"
      ]
     },
     "execution_count": 4,
     "metadata": {},
     "output_type": "execute_result"
    }
   ],
   "source": [
    "df"
   ]
  }
 ],
 "metadata": {
  "kernelspec": {
   "display_name": "Python 3 (ipykernel)",
   "language": "python",
   "name": "python3"
  },
  "language_info": {
   "codemirror_mode": {
    "name": "ipython",
    "version": 3
   },
   "file_extension": ".py",
   "mimetype": "text/x-python",
   "name": "python",
   "nbconvert_exporter": "python",
   "pygments_lexer": "ipython3",
   "version": "3.9.12"
  }
 },
 "nbformat": 4,
 "nbformat_minor": 5
}
