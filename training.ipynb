{
 "cells": [
  {
   "cell_type": "code",
   "execution_count": 3,
   "id": "840f1a55-6e23-4e19-b78e-732c782ef318",
   "metadata": {},
   "outputs": [
    {
     "name": "stdout",
     "output_type": "stream",
     "text": [
      "CUDA: True\n"
     ]
    }
   ],
   "source": [
    "# Imports\n",
    "\n",
    "import torch\n",
    "import rdkit\n",
    "import openbabel\n",
    "\n",
    "print('CUDA:', torch.cuda.is_available())\n",
    "\n",
    "# Import GPU-related things\n",
    "if (torch.cuda.is_available()):\n",
    "    import cupy as np\n",
    "    import cudf as pd\n",
    "else:\n",
    "    import numpy as np\n",
    "    import pandas as pd"
   ]
  },
  {
   "cell_type": "code",
   "execution_count": 4,
   "id": "874972e9-3222-418e-afa4-314414419234",
   "metadata": {},
   "outputs": [
    {
     "name": "stdout",
     "output_type": "stream",
     "text": [
      "--2022-05-16 14:29:34--  https://s3-eu-west-1.amazonaws.com/pstorage-npg-968563215/3195389/dsgdb9nsd.xyz.tar.bz2\n",
      "Resolving s3-eu-west-1.amazonaws.com (s3-eu-west-1.amazonaws.com)... 52.218.118.112\n",
      "Connecting to s3-eu-west-1.amazonaws.com (s3-eu-west-1.amazonaws.com)|52.218.118.112|:443... connected.\n",
      "HTTP request sent, awaiting response... 200 OK\n",
      "Length: 86144227 (82M) [binary/octet-stream]\n",
      "Saving to: ‘dsgdb9nsd.xyz.tar.bz2’\n",
      "\n",
      "dsgdb9nsd.xyz.tar.b 100%[===================>]  82.15M  19.8MB/s    in 4.4s    \n",
      "\n",
      "2022-05-16 14:29:44 (18.8 MB/s) - ‘dsgdb9nsd.xyz.tar.bz2’ saved [86144227/86144227]\n",
      "\n"
     ]
    }
   ],
   "source": [
    "# Download QM9; e-Drug3D is small enough to be in the repository\n",
    "# Using the torch_geometric dataset doesn't make a whole lot of sense, as we wanna push QM9 through antechamber first\n",
    "\n",
    "!wget -nc https://s3-eu-west-1.amazonaws.com/pstorage-npg-968563215/3195389/dsgdb9nsd.xyz.tar.bz2"
   ]
  },
  {
   "cell_type": "code",
   "execution_count": null,
   "id": "891954fb-c18d-44ba-95d7-a9379af23506",
   "metadata": {},
   "outputs": [
    {
     "name": "stdout",
     "output_type": "stream",
     "text": [
      "^C\n"
     ]
    }
   ],
   "source": [
    "# untar; This may take a while\n",
    "\n",
    "!tar --skip-old-files -xf dsgdb9nsd.xyz.tar.bz2 -C data/qm9 && rm *.bz2"
   ]
  },
  {
   "cell_type": "code",
   "execution_count": null,
   "id": "efc0aaba-9150-4830-94b9-d6d012e12e4f",
   "metadata": {},
   "outputs": [],
   "source": [
    "# Load e-Drug3D into pandas, so we can iterate over it.\n",
    "\n",
    "df = rdkit.Chem.PandasTools.LoadSDF('data/edrug3d.sdf')"
   ]
  }
 ],
 "metadata": {
  "kernelspec": {
   "display_name": "Python 3 (ipykernel)",
   "language": "python",
   "name": "python3"
  },
  "language_info": {
   "codemirror_mode": {
    "name": "ipython",
    "version": 3
   },
   "file_extension": ".py",
   "mimetype": "text/x-python",
   "name": "python",
   "nbconvert_exporter": "python",
   "pygments_lexer": "ipython3",
   "version": "3.9.12"
  }
 },
 "nbformat": 4,
 "nbformat_minor": 5
}
