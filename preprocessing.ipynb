{
 "cells": [
  {
   "cell_type": "code",
   "execution_count": 24,
   "metadata": {},
   "outputs": [],
   "source": [
    "import pandas as pd\n",
    "import numpy as np\n",
    "import os\n",
    "import re\n",
    "import time\n",
    "import threading\n",
    "import subprocess\n",
    "\n",
    "from rdkit import Chem\n",
    "from openbabel import pybel\n",
    "\n",
    "if not os.path.exists('./temp'):\n",
    "    os.mkdir('./temp')"
   ]
  },
  {
   "cell_type": "code",
   "execution_count": 25,
   "metadata": {},
   "outputs": [],
   "source": [
    "files = [\n",
    "    'edrug3d.sdf',\n",
    "    'qm9-1.sdf',\n",
    "    'qm9-2.sdf',\n",
    "    'qm9-3.sdf',\n",
    "    'qm9-4.sdf',\n",
    "    'qm9-5.sdf',\n",
    "    'qm9-6.sdf',\n",
    "    'qm9-7.sdf',\n",
    "    'qm9-8.sdf'\n",
    "]\n",
    "\n",
    "\n",
    "def check_missing_files():\n",
    "    \"\"\"Checks for missing files. Returns true, if all files are present.\"\"\"\n",
    "    for file in files:\n",
    "        if not os.path.exists('./data/' + file):\n",
    "            return False\n",
    "\n",
    "    return True"
   ]
  },
  {
   "cell_type": "code",
   "execution_count": 26,
   "metadata": {
    "tags": []
   },
   "outputs": [],
   "source": [
    "# Download data\n",
    "\n",
    "if not check_missing_files():\n",
    "    !wget -nc -O data.zip \"https://hochschulebonnrheinsieg-my.sharepoint.com/:u:/g/personal/nico_piel_365h-brs_de1/ESuGOTn_IflEk7I5HkOFpbwBZKeOk9Qf2nL5JEcq2om6_Q?e=BuUnkT&download=1\"\n",
    "    !unzip -u data.zip\n",
    "    !rm data.zip"
   ]
  },
  {
   "cell_type": "code",
   "execution_count": 27,
   "metadata": {},
   "outputs": [],
   "source": [
    "def ac_to_series(smiles: str, filename: str) -> pd.DataFrame:\n",
    "    with open(filename) as file:\n",
    "        lines = file.readlines()\n",
    "\n",
    "        out = []\n",
    "\n",
    "        for line in lines:\n",
    "            if ('ATOM' in line):\n",
    "                strng = str(line[-3:]).strip()\n",
    "                out.append(strng)\n",
    "\n",
    "        output = '|'.join(out)\n",
    "\n",
    "        return pd.DataFrame.from_dict({'smiles': [smiles], 'types': [output]})"
   ]
  },
  {
   "cell_type": "code",
   "execution_count": 28,
   "metadata": {
    "tags": []
   },
   "outputs": [],
   "source": [
    "def sdf_to_list(filename: str) -> list:\n",
    "    \"\"\"Converts an sdf file to a Python list.\"\"\"\n",
    "    with open(filename, \"rt\") as file:\n",
    "        return file.read().split(r'$$$$')"
   ]
  },
  {
   "cell_type": "code",
   "execution_count": 29,
   "metadata": {
    "tags": []
   },
   "outputs": [],
   "source": [
    "mol_df = pd.DataFrame(columns=['smiles', 'types'])"
   ]
  },
  {
   "cell_type": "code",
   "execution_count": 30,
   "metadata": {
    "tags": []
   },
   "outputs": [],
   "source": [
    "df_list = []\n",
    "\n",
    "def sdf_to_df(file_name: str, data_frame: pd.DataFrame) -> pd.DataFrame:\n",
    "    mols = sdf_to_list('./data/' + file_name)\n",
    "    df = pd.DataFrame(columns=['smiles', 'types'])\n",
    "    file_name_split = file_name.split('.')[0]\n",
    "\n",
    "    if not os.path.exists('./temp/' + file_name_split):\n",
    "        os.mkdir('./temp/' + file_name_split)\n",
    "\n",
    "    new_path = './temp/' + file_name_split + '/'\n",
    "\n",
    "    for mol in mols:\n",
    "        # Strip leading new lines\n",
    "        mol = mol.lstrip()\n",
    "\n",
    "        # Split on new lines to correct for mistakes made by splitting the sdf molecules\n",
    "        split = mol.split('\\n')\n",
    "        curr_split_len = len(split)\n",
    "\n",
    "        if curr_split_len > 5:\n",
    "            # Insert a new line if line 4 isn't in the correct place\n",
    "            if re.compile(r'\\s*\\d+\\s*\\d+\\s*\\d+\\s*\\d+\\s*').match(split[3]) is None:\n",
    "                mol = '\\n' + mol\n",
    "\n",
    "            # Write molecule to a file so antechamber can read it\n",
    "            with open(new_path + 'mol.sdf', 'w') as file:\n",
    "                file.write(mol)\n",
    "\n",
    "            # Create an openbabel molecule\n",
    "            py_mol = pybel.readstring('sdf', mol)\n",
    "\n",
    "            # Run antechamber and divert output to a file (temporary)\n",
    "            subprocess.getoutput(\n",
    "                f\"cd {new_path} && antechamber -i mol.sdf -fi mdl -o mol.ac -fo ac -at gaff2 -pf y\"\n",
    "            )\n",
    "\n",
    "            # Write molecule to a SMILES string\n",
    "            smiles = py_mol.write('smi')\n",
    "\n",
    "            # Split SMILES to only include the actual string. The drug's name is otherwise attached to it for some reason.\n",
    "            smiles_only = re.compile(r'\\s+').split(smiles)[0]\n",
    "\n",
    "            # Convert ac atom types to a new dataframe\n",
    "            ac_df = ac_to_series(smiles_only, new_path + 'mol.ac')\n",
    "\n",
    "            # Attach new row to existing dataframe\n",
    "            df = pd.concat([df, ac_df], ignore_index=True)\n",
    "        else:\n",
    "            print('end')\n",
    "\n",
    "    # Clean up remaining files\n",
    "    try:\n",
    "        os.remove(new_path + 'mol.ac')\n",
    "        os.remove(new_path + 'mol.sdf')\n",
    "    except IOError:\n",
    "        print('Something went wrong.')\n",
    "\n",
    "    # Attach completed dataframe to the output frame.\n",
    "    df_list.append(df)\n",
    "\n",
    "    return df"
   ]
  },
  {
   "cell_type": "code",
   "execution_count": 31,
   "metadata": {},
   "outputs": [],
   "source": [
    "class PreprocessingThread(threading.Thread):\n",
    "    def __init__(self, file_name, data_frame):\n",
    "        threading.Thread.__init__(self)\n",
    "        self.file_name = file_name\n",
    "        self.data_frame = data_frame\n",
    "\n",
    "    def run(self):\n",
    "        print(\"Starting \" + self.file_name)\n",
    "        sdf_to_df(self.file_name, self.data_frame)\n",
    "        print(\"Exiting \" + self.file_name)"
   ]
  },
  {
   "cell_type": "code",
   "execution_count": null,
   "metadata": {},
   "outputs": [
    {
     "name": "stdout",
     "output_type": "stream",
     "text": [
      "Starting edrug3d.sdf\n",
      "Starting qm9-1.sdf\n",
      "Starting qm9-2.sdf\n",
      "Starting qm9-3.sdf\n",
      "Starting qm9-4.sdf\n",
      "Starting qm9-5.sdf\n",
      "Starting qm9-6.sdf\n",
      "Starting qm9-7.sdf\n",
      "Starting qm9-8.sdf\n"
     ]
    }
   ],
   "source": [
    "threads = []  # list of threads so they can be manipulated later\n",
    "\n",
    "# Create a thread for each file\n",
    "for file in files:\n",
    "    thread = PreprocessingThread(file, mol_df)\n",
    "    threads.append(thread)\n",
    "# Start threads\n",
    "for thread in threads:\n",
    "    thread.start()\n",
    "# Wait for them to finish\n",
    "for thread in threads:\n",
    "    thread.join()\n",
    "\n",
    "# Concatenate dfs in the list\n",
    "mol_df = pd.concat(df_list, ignore_index=True)"
   ]
  },
  {
   "cell_type": "code",
   "execution_count": null,
   "metadata": {},
   "outputs": [],
   "source": [
    "mol_df.to_csv('./data/data.csv', index=False)"
   ]
  }
 ],
 "metadata": {
  "interpreter": {
   "hash": "07bca49d2aa91ba30708eb691bb51c14e8f9a0701c6e92c94ace8ce2abd85168"
  },
  "kernelspec": {
   "display_name": "Python 3 (ipykernel)",
   "language": "python",
   "name": "python3"
  },
  "language_info": {
   "codemirror_mode": {
    "name": "ipython",
    "version": 3
   },
   "file_extension": ".py",
   "mimetype": "text/x-python",
   "name": "python",
   "nbconvert_exporter": "python",
   "pygments_lexer": "ipython3",
   "version": "3.9.12"
  }
 },
 "nbformat": 4,
 "nbformat_minor": 4
}
