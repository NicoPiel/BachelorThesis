{
 "cells": [
  {
   "cell_type": "code",
   "execution_count": 41,
   "metadata": {
    "pycharm": {
     "name": "#%%\n"
    }
   },
   "outputs": [],
   "source": [
    "import pandas as pd\n",
    "import numpy as np\n",
    "import os\n",
    "import re\n",
    "import time\n",
    "import threading\n",
    "import subprocess\n",
    "\n",
    "from tqdm.notebook import tqdm\n",
    "from rdkit import Chem\n",
    "from rdkit.Chem import Descriptors, Descriptors3D, ChemicalFeatures, GraphDescriptors, Lipinski, rdchem\n",
    "from rdkit.Chem.rdchem import Mol, Atom\n",
    "from openbabel import pybel\n",
    "\n",
    "if not os.path.exists('./temp'):\n",
    "    os.mkdir('./temp')"
   ]
  },
  {
   "cell_type": "code",
   "execution_count": 42,
   "metadata": {},
   "outputs": [],
   "source": [
    "def in_ipython():\n",
    "    try:\n",
    "        return __IPYTHON__\n",
    "    except NameError:\n",
    "        return False"
   ]
  },
  {
   "cell_type": "code",
   "execution_count": 43,
   "metadata": {
    "pycharm": {
     "name": "#%%\n"
    }
   },
   "outputs": [],
   "source": [
    "files = [\n",
    "    'edrug3d.sdf',\n",
    "    'qm9-1.sdf',\n",
    "    'qm9-2.sdf',\n",
    "    'qm9-3.sdf',\n",
    "    'qm9-4.sdf',\n",
    "    'qm9-5.sdf',\n",
    "    'qm9-6.sdf',\n",
    "    'qm9-7.sdf',\n",
    "    'qm9-8.sdf'\n",
    "]\n",
    "\n",
    "\n",
    "def check_missing_files():\n",
    "    \"\"\"Checks for missing files. Returns true, if all files are present.\"\"\"\n",
    "    for file in files:\n",
    "        if not os.path.exists('./data/' + file):\n",
    "            return False\n",
    "\n",
    "    return True"
   ]
  },
  {
   "cell_type": "code",
   "execution_count": 44,
   "metadata": {
    "pycharm": {
     "name": "#%%\n"
    },
    "tags": []
   },
   "outputs": [],
   "source": [
    "# Download data\n",
    "\n",
    "if not check_missing_files():\n",
    "    !wget -nc -O data.zip \"https://hochschulebonnrheinsieg-my.sharepoint.com/:u:/g/personal/nico_piel_365h-brs_de1/ESuGOTn_IflEk7I5HkOFpbwBZKeOk9Qf2nL5JEcq2om6_Q?e=sHYsTk&download=1\"\n",
    "    !unzip -u data.zip\n",
    "    !rm data.zip"
   ]
  },
  {
   "cell_type": "code",
   "execution_count": 45,
   "metadata": {
    "pycharm": {
     "name": "#%%\n"
    }
   },
   "outputs": [],
   "source": [
    "def ac_to_series(filename: str, mol_info: pd.DataFrame) -> pd.DataFrame:\n",
    "    df_out = None\n",
    "\n",
    "    with open(filename) as file:\n",
    "        lines = file.readlines()\n",
    "\n",
    "        for line in [a for a in lines if 'ATOM' in a]:\n",
    "            try:\n",
    "                out = {}\n",
    "\n",
    "                a_split = re.compile(r'\\s+').split(line.strip())\n",
    "                atom_name = a_split[2]\n",
    "                if len(a_split) > 9:\n",
    "                    atom_type = a_split[9]\n",
    "                else:\n",
    "                    atom_type = a_split[8]\n",
    "\n",
    "                out['name'] = atom_name\n",
    "                out['type'] = atom_type\n",
    "\n",
    "                bonds = {\n",
    "                    'C': 0,\n",
    "                    'H': 0,\n",
    "                    'N': 0,\n",
    "                    'O': 0,\n",
    "                    'S': 0,\n",
    "                    'F': 0,\n",
    "                    'Cl': 0,\n",
    "                    'Br': 0,\n",
    "                    'I': 0,\n",
    "                    'Other': 0\n",
    "                }\n",
    "\n",
    "                for bond in [b for b in lines if 'BOND' in b]:\n",
    "                    b_split = re.compile(r'\\s+').split(bond.strip())\n",
    "\n",
    "                    if b_split[5] == atom_name:\n",
    "                        bond_type = re.compile(r'\\d+').split(b_split[6])[0]\n",
    "\n",
    "                        if bond_type in bonds.keys():\n",
    "                            bonds[bond_type] += 1\n",
    "                        else:\n",
    "                            bonds['Other'] += 1\n",
    "\n",
    "                    elif b_split[6] == atom_name:\n",
    "                        bond_type = re.compile(r'\\d+').split(b_split[5])[0]\n",
    "\n",
    "                        if bond_type in bonds.keys():\n",
    "                            bonds[bond_type] += 1\n",
    "                        else:\n",
    "                            bonds['Other'] += 1\n",
    "\n",
    "                out.update(bonds)\n",
    "                bond_df = pd.DataFrame(out, index=[0])\n",
    "\n",
    "                # Append molecule info to every atom\n",
    "                bond_mol_df = pd.concat([bond_df, mol_info], axis=1)\n",
    "\n",
    "                if df_out is None:\n",
    "                    df_out = pd.DataFrame(columns=bond_mol_df.columns)\n",
    "\n",
    "                df_out = pd.concat([df_out, bond_mol_df], ignore_index=True)\n",
    "            except IndexError:\n",
    "                print(f'Index out of range in {filename}, line: {line}')\n",
    "                print(f'a_split only has {len(a_split)} elements.')\n",
    "\n",
    "    return df_out"
   ]
  },
  {
   "cell_type": "code",
   "execution_count": 46,
   "metadata": {
    "pycharm": {
     "name": "#%%\n"
    },
    "tags": []
   },
   "outputs": [],
   "source": [
    "def sdf_to_list(filename: str) -> list:\n",
    "    \"\"\"Converts an sdf file to a Python list.\"\"\"\n",
    "    with open(filename, \"rt\") as file:\n",
    "        return file.read().split(r'$$$$')"
   ]
  },
  {
   "cell_type": "code",
   "execution_count": 47,
   "metadata": {
    "pycharm": {
     "name": "#%%\n"
    },
    "tags": []
   },
   "outputs": [],
   "source": [
    "df_list = []\n",
    "\n",
    "\n",
    "def sdf_to_df(file_name: str) -> pd.DataFrame:\n",
    "    mols = sdf_to_list('./data/' + file_name)\n",
    "    df = None\n",
    "    file_name_split = file_name.split('.')[0]\n",
    "\n",
    "    if not os.path.exists('./temp/' + file_name_split):\n",
    "        os.mkdir('./temp/' + file_name_split)\n",
    "\n",
    "    new_path = './temp/' + file_name_split + '/'\n",
    "\n",
    "    for mol in mols:\n",
    "        # Strip leading new lines\n",
    "        mol = mol.lstrip()\n",
    "\n",
    "        # Split on new lines to correct for mistakes made by splitting the sdf molecules\n",
    "        split = mol.split('\\n')\n",
    "        curr_split_len = len(split)\n",
    "\n",
    "        if curr_split_len > 5:\n",
    "            # Insert a new line if line 4 isn't in the correct place\n",
    "            if re.compile(r'\\s*\\d+\\s*\\d+\\s*\\d+\\s*\\d+\\s*').match(split[3]) is None:\n",
    "                mol = '\\n' + mol\n",
    "\n",
    "            # Write molecule to a file so antechamber can read it\n",
    "            with open(new_path + 'mol.sdf', 'w') as file:\n",
    "                file.write(mol)\n",
    "\n",
    "            # Run antechamber and divert output to a file (temporary)\n",
    "            subprocess.getoutput(\n",
    "                f\"cd {new_path} && antechamber -i mol.sdf -fi mdl -o mol.ac -fo ac -at gaff2 -pf y\"\n",
    "            )\n",
    "\n",
    "            rdInfo = {}\n",
    "\n",
    "            rdmol = Chem.MolFromMolBlock(mol)\n",
    "\n",
    "            rdInfo['hvyAtCnt'] = Lipinski.HeavyAtomCount(rdmol)\n",
    "            rdInfo['nhohC'] = Lipinski.NHOHCount(rdmol)\n",
    "            rdInfo['noC'] = Lipinski.NOCount(rdmol)\n",
    "            rdInfo['aliCC'] = Lipinski.NumAliphaticCarbocycles(rdmol)\n",
    "            rdInfo['aliHC'] = Lipinski.NumAliphaticHeterocycles(rdmol)\n",
    "            rdInfo['aliR'] = Lipinski.NumAliphaticRings(rdmol)\n",
    "            rdInfo['aroCC'] = Lipinski.NumAromaticCarbocycles(rdmol)\n",
    "            rdInfo['aroR'] = Lipinski.NumAromaticRings(rdmol)\n",
    "            rdInfo['HA'] = Lipinski.NumHAcceptors(rdmol)\n",
    "            rdInfo['HD'] = Lipinski.NumHDonors(rdmol)\n",
    "            rdInfo['HAt'] = Lipinski.NumHeteroatoms(rdmol)\n",
    "            rdInfo['rotBonds'] = Lipinski.NumRotatableBonds(rdmol)\n",
    "            rdInfo['satCC'] = Lipinski.NumSaturatedCarbocycles(rdmol)\n",
    "            rdInfo['satHC'] = Lipinski.NumSaturatedHeterocycles(rdmol)\n",
    "            rdInfo['satR'] = Lipinski.NumSaturatedRings(rdmol)\n",
    "            rdInfo['rC'] = Lipinski.RingCount(rdmol)\n",
    "            rdInfo['molWt'] = Descriptors.MolWt(rdmol)\n",
    "            rdInfo['hvyAtMolWt'] = Descriptors.HeavyAtomMolWt(rdmol)\n",
    "            rdInfo['molMaxPC'] = Descriptors.MaxPartialCharge(rdmol)\n",
    "            rdInfo['molMinPC'] = Descriptors.MinPartialCharge(rdmol)\n",
    "            rdInfo['molRadElec'] = Descriptors.NumRadicalElectrons(rdmol)\n",
    "            rdInfo['molValElec'] = Descriptors.NumValenceElectrons(rdmol)\n",
    "            rdInfo['asph'] = Descriptors3D.Asphericity(rdmol)\n",
    "            rdInfo['ecc'] = Descriptors3D.Eccentricity(rdmol)\n",
    "            rdInfo['isf'] = Descriptors3D.InertialShapeFactor(rdmol)\n",
    "            rdInfo['npr1'] = Descriptors3D.NPR1(rdmol)\n",
    "            rdInfo['npr2'] = Descriptors3D.NPR2(rdmol)\n",
    "            rdInfo['pmi'] = Descriptors3D.PMI1(rdmol)\n",
    "            rdInfo['rog'] = Descriptors3D.RadiusOfGyration(rdmol)\n",
    "            rdInfo['j'] = GraphDescriptors.BalabanJ(rdmol)\n",
    "            rdInfo['ct'] = GraphDescriptors.BertzCT(rdmol)\n",
    "\n",
    "            atoms = Mol.GetAtoms(rdmol)\n",
    "\n",
    "            for atom in atoms:\n",
    "                Atom.GetSymbol(atom)\n",
    "                Atom.GetBonds(atom)\n",
    "\n",
    "            rdDf = pd.DataFrame(rdInfo, index=[0])\n",
    "\n",
    "            # Convert ac atom types to a new dataframe\n",
    "            ac_df = ac_to_series(new_path + 'mol.ac', rdDf)\n",
    "\n",
    "            if df is None:\n",
    "                df = pd.DataFrame(columns=ac_df.columns)\n",
    "\n",
    "            # Attach new row to existing dataframe\n",
    "            df = pd.concat([df, ac_df], ignore_index=True)\n",
    "        else:\n",
    "            print('end')\n",
    "\n",
    "    # Clean up remaining files\n",
    "    try:\n",
    "        os.remove(new_path + 'mol.ac')\n",
    "        os.remove(new_path + 'mol.sdf')\n",
    "    except IOError:\n",
    "        print('Something went wrong.')\n",
    "\n",
    "    # Attach completed dataframe to the output frame.\n",
    "    df_list.append(df)\n",
    "\n",
    "    return df"
   ]
  },
  {
   "cell_type": "code",
   "execution_count": 48,
   "metadata": {
    "pycharm": {
     "name": "#%%\n"
    }
   },
   "outputs": [],
   "source": [
    "class PreprocessingThread(threading.Thread):\n",
    "    def __init__(self, file_name):\n",
    "        threading.Thread.__init__(self)\n",
    "        self.file_name = file_name\n",
    "\n",
    "    def run(self):\n",
    "        print(\"Starting \" + self.file_name)\n",
    "        sdf_to_df(self.file_name)\n",
    "        print(\"Exiting \" + self.file_name)"
   ]
  },
  {
   "cell_type": "code",
   "execution_count": 49,
   "metadata": {
    "pycharm": {
     "name": "#%%\n"
    },
    "tags": []
   },
   "outputs": [],
   "source": [
    "def main():\n",
    "    threads = []  # list of threads so they can be manipulated later\n",
    "\n",
    "    # pqdm(files, sdf_to_df, n_jobs=len(files))\n",
    "\n",
    "    # Create a thread for each file\n",
    "    for file in files:\n",
    "        thread = PreprocessingThread(file)\n",
    "        threads.append(thread)\n",
    "    # Start threads\n",
    "    for thread in threads:\n",
    "        thread.start()\n",
    "    # Wait for them to finish\n",
    "    for thread in threads:\n",
    "        thread.join()\n",
    "\n",
    "    # Concatenate dfs in the list\n",
    "    mol_df = pd.concat(df_list, ignore_index=True)\n",
    "    mol_df.to_csv('./data/data.csv', index=False)"
   ]
  },
  {
   "cell_type": "code",
   "execution_count": 50,
   "metadata": {
    "collapsed": true,
    "jupyter": {
     "outputs_hidden": true
    },
    "tags": []
   },
   "outputs": [
    {
     "name": "stdout",
     "output_type": "stream",
     "text": [
      "Starting edrug3d.sdf\n",
      "Starting qm9-1.sdf\n",
      "Starting qm9-2.sdf\n",
      "Starting qm9-3.sdf\n",
      "Starting qm9-4.sdf\n",
      "Starting qm9-5.sdf\n",
      "Starting qm9-6.sdf\n",
      "Starting qm9-7.sdf\n",
      "Starting qm9-8.sdf\n"
     ]
    },
    {
     "name": "stderr",
     "output_type": "stream",
     "text": [
      "[19:35:08] Warning: molecule is tagged as 3D, but all Z coords are zero\n",
      "[19:35:30] Explicit valence for atom # 5 N, 4, is greater than permitted\n",
      "Exception in thread Thread-72:\n",
      "Traceback (most recent call last):\n",
      "  File \"/home/npiel2s/miniconda3/envs/mm/lib/python3.9/threading.py\", line 980, in _bootstrap_inner\n",
      "    self.run()\n",
      "  File \"/tmp/ipykernel_38520/1002415754.py\", line 8, in run\n",
      "  File \"/tmp/ipykernel_38520/667317585.py\", line 40, in sdf_to_df\n",
      "  File \"/home/npiel2s/miniconda3/envs/mm/lib/python3.9/site-packages/rdkit/Chem/Lipinski.py\", line 78, in HeavyAtomCount\n",
      "    return mol.GetNumHeavyAtoms()\n",
      "AttributeError: 'NoneType' object has no attribute 'GetNumHeavyAtoms'\n",
      "[19:35:35] Explicit valence for atom # 3 N, 4, is greater than permitted\n",
      "Exception in thread Thread-69:\n",
      "Traceback (most recent call last):\n",
      "  File \"/home/npiel2s/miniconda3/envs/mm/lib/python3.9/threading.py\", line 980, in _bootstrap_inner\n",
      "    self.run()\n",
      "  File \"/tmp/ipykernel_38520/1002415754.py\", line 8, in run\n",
      "  File \"/tmp/ipykernel_38520/667317585.py\", line 40, in sdf_to_df\n",
      "  File \"/home/npiel2s/miniconda3/envs/mm/lib/python3.9/site-packages/rdkit/Chem/Lipinski.py\", line 78, in HeavyAtomCount\n",
      "    return mol.GetNumHeavyAtoms()\n",
      "AttributeError: 'NoneType' object has no attribute 'GetNumHeavyAtoms'\n",
      "[19:36:12] Explicit valence for atom # 4 N, 4, is greater than permitted\n",
      "Exception in thread Thread-74:\n",
      "Traceback (most recent call last):\n",
      "  File \"/home/npiel2s/miniconda3/envs/mm/lib/python3.9/threading.py\", line 980, in _bootstrap_inner\n",
      "    self.run()\n",
      "  File \"/tmp/ipykernel_38520/1002415754.py\", line 8, in run\n",
      "  File \"/tmp/ipykernel_38520/667317585.py\", line 40, in sdf_to_df\n",
      "  File \"/home/npiel2s/miniconda3/envs/mm/lib/python3.9/site-packages/rdkit/Chem/Lipinski.py\", line 78, in HeavyAtomCount\n",
      "    return mol.GetNumHeavyAtoms()\n",
      "AttributeError: 'NoneType' object has no attribute 'GetNumHeavyAtoms'\n",
      "[19:37:09] Explicit valence for atom # 6 N, 4, is greater than permitted\n",
      "Exception in thread Thread-76:\n",
      "Traceback (most recent call last):\n",
      "  File \"/home/npiel2s/miniconda3/envs/mm/lib/python3.9/threading.py\", line 980, in _bootstrap_inner\n",
      "    self.run()\n",
      "  File \"/tmp/ipykernel_38520/1002415754.py\", line 8, in run\n",
      "  File \"/tmp/ipykernel_38520/667317585.py\", line 40, in sdf_to_df\n",
      "  File \"/home/npiel2s/miniconda3/envs/mm/lib/python3.9/site-packages/rdkit/Chem/Lipinski.py\", line 78, in HeavyAtomCount\n",
      "    return mol.GetNumHeavyAtoms()\n",
      "AttributeError: 'NoneType' object has no attribute 'GetNumHeavyAtoms'\n"
     ]
    },
    {
     "ename": "KeyboardInterrupt",
     "evalue": "",
     "output_type": "error",
     "traceback": [
      "\u001b[0;31m---------------------------------------------------------------------------\u001b[0m",
      "\u001b[0;31mKeyboardInterrupt\u001b[0m                         Traceback (most recent call last)",
      "Input \u001b[0;32mIn [50]\u001b[0m, in \u001b[0;36m<cell line: 1>\u001b[0;34m()\u001b[0m\n\u001b[1;32m      6\u001b[0m     main()\n\u001b[1;32m      7\u001b[0m \u001b[38;5;28;01melse\u001b[39;00m:\n\u001b[0;32m----> 8\u001b[0m     \u001b[43mmain\u001b[49m\u001b[43m(\u001b[49m\u001b[43m)\u001b[49m\n",
      "Input \u001b[0;32mIn [49]\u001b[0m, in \u001b[0;36mmain\u001b[0;34m()\u001b[0m\n\u001b[1;32m     13\u001b[0m \u001b[38;5;66;03m# Wait for them to finish\u001b[39;00m\n\u001b[1;32m     14\u001b[0m \u001b[38;5;28;01mfor\u001b[39;00m thread \u001b[38;5;129;01min\u001b[39;00m threads:\n\u001b[0;32m---> 15\u001b[0m     \u001b[43mthread\u001b[49m\u001b[38;5;241;43m.\u001b[39;49m\u001b[43mjoin\u001b[49m\u001b[43m(\u001b[49m\u001b[43m)\u001b[49m\n\u001b[1;32m     17\u001b[0m \u001b[38;5;66;03m# Concatenate dfs in the list\u001b[39;00m\n\u001b[1;32m     18\u001b[0m mol_df \u001b[38;5;241m=\u001b[39m pd\u001b[38;5;241m.\u001b[39mconcat(df_list, ignore_index\u001b[38;5;241m=\u001b[39m\u001b[38;5;28;01mTrue\u001b[39;00m)\n",
      "File \u001b[0;32m~/miniconda3/envs/mm/lib/python3.9/threading.py:1060\u001b[0m, in \u001b[0;36mThread.join\u001b[0;34m(self, timeout)\u001b[0m\n\u001b[1;32m   1057\u001b[0m     \u001b[38;5;28;01mraise\u001b[39;00m \u001b[38;5;167;01mRuntimeError\u001b[39;00m(\u001b[38;5;124m\"\u001b[39m\u001b[38;5;124mcannot join current thread\u001b[39m\u001b[38;5;124m\"\u001b[39m)\n\u001b[1;32m   1059\u001b[0m \u001b[38;5;28;01mif\u001b[39;00m timeout \u001b[38;5;129;01mis\u001b[39;00m \u001b[38;5;28;01mNone\u001b[39;00m:\n\u001b[0;32m-> 1060\u001b[0m     \u001b[38;5;28;43mself\u001b[39;49m\u001b[38;5;241;43m.\u001b[39;49m\u001b[43m_wait_for_tstate_lock\u001b[49m\u001b[43m(\u001b[49m\u001b[43m)\u001b[49m\n\u001b[1;32m   1061\u001b[0m \u001b[38;5;28;01melse\u001b[39;00m:\n\u001b[1;32m   1062\u001b[0m     \u001b[38;5;66;03m# the behavior of a negative timeout isn't documented, but\u001b[39;00m\n\u001b[1;32m   1063\u001b[0m     \u001b[38;5;66;03m# historically .join(timeout=x) for x<0 has acted as if timeout=0\u001b[39;00m\n\u001b[1;32m   1064\u001b[0m     \u001b[38;5;28mself\u001b[39m\u001b[38;5;241m.\u001b[39m_wait_for_tstate_lock(timeout\u001b[38;5;241m=\u001b[39m\u001b[38;5;28mmax\u001b[39m(timeout, \u001b[38;5;241m0\u001b[39m))\n",
      "File \u001b[0;32m~/miniconda3/envs/mm/lib/python3.9/threading.py:1080\u001b[0m, in \u001b[0;36mThread._wait_for_tstate_lock\u001b[0;34m(self, block, timeout)\u001b[0m\n\u001b[1;32m   1077\u001b[0m     \u001b[38;5;28;01mreturn\u001b[39;00m\n\u001b[1;32m   1079\u001b[0m \u001b[38;5;28;01mtry\u001b[39;00m:\n\u001b[0;32m-> 1080\u001b[0m     \u001b[38;5;28;01mif\u001b[39;00m \u001b[43mlock\u001b[49m\u001b[38;5;241;43m.\u001b[39;49m\u001b[43macquire\u001b[49m\u001b[43m(\u001b[49m\u001b[43mblock\u001b[49m\u001b[43m,\u001b[49m\u001b[43m \u001b[49m\u001b[43mtimeout\u001b[49m\u001b[43m)\u001b[49m:\n\u001b[1;32m   1081\u001b[0m         lock\u001b[38;5;241m.\u001b[39mrelease()\n\u001b[1;32m   1082\u001b[0m         \u001b[38;5;28mself\u001b[39m\u001b[38;5;241m.\u001b[39m_stop()\n",
      "\u001b[0;31mKeyboardInterrupt\u001b[0m: "
     ]
    },
    {
     "name": "stderr",
     "output_type": "stream",
     "text": [
      "[19:37:58] Explicit valence for atom # 4 N, 4, is greater than permitted\n",
      "Exception in thread Thread-75:\n",
      "Traceback (most recent call last):\n",
      "  File \"/home/npiel2s/miniconda3/envs/mm/lib/python3.9/threading.py\", line 980, in _bootstrap_inner\n",
      "    self.run()\n",
      "  File \"/tmp/ipykernel_38520/1002415754.py\", line 8, in run\n",
      "  File \"/tmp/ipykernel_38520/667317585.py\", line 40, in sdf_to_df\n",
      "  File \"/home/npiel2s/miniconda3/envs/mm/lib/python3.9/site-packages/rdkit/Chem/Lipinski.py\", line 78, in HeavyAtomCount\n",
      "    return mol.GetNumHeavyAtoms()\n",
      "AttributeError: 'NoneType' object has no attribute 'GetNumHeavyAtoms'\n",
      "[19:39:52] Explicit valence for atom # 4 N, 4, is greater than permitted\n",
      "Exception in thread Thread-70:\n",
      "Traceback (most recent call last):\n",
      "  File \"/home/npiel2s/miniconda3/envs/mm/lib/python3.9/threading.py\", line 980, in _bootstrap_inner\n",
      "    self.run()\n",
      "  File \"/tmp/ipykernel_38520/1002415754.py\", line 8, in run\n",
      "  File \"/tmp/ipykernel_38520/667317585.py\", line 40, in sdf_to_df\n",
      "  File \"/home/npiel2s/miniconda3/envs/mm/lib/python3.9/site-packages/rdkit/Chem/Lipinski.py\", line 78, in HeavyAtomCount\n",
      "    return mol.GetNumHeavyAtoms()\n",
      "AttributeError: 'NoneType' object has no attribute 'GetNumHeavyAtoms'\n",
      "[19:40:29] Explicit valence for atom # 5 N, 4, is greater than permitted\n",
      "Exception in thread Thread-68:\n",
      "Traceback (most recent call last):\n",
      "  File \"/home/npiel2s/miniconda3/envs/mm/lib/python3.9/threading.py\", line 980, in _bootstrap_inner\n",
      "    self.run()\n",
      "  File \"/tmp/ipykernel_38520/1002415754.py\", line 8, in run\n",
      "  File \"/tmp/ipykernel_38520/667317585.py\", line 40, in sdf_to_df\n",
      "  File \"/home/npiel2s/miniconda3/envs/mm/lib/python3.9/site-packages/rdkit/Chem/Lipinski.py\", line 78, in HeavyAtomCount\n",
      "    return mol.GetNumHeavyAtoms()\n",
      "AttributeError: 'NoneType' object has no attribute 'GetNumHeavyAtoms'\n",
      "[19:42:25] Explicit valence for atom # 3 N, 4, is greater than permitted\n",
      "Exception in thread Thread-71:\n",
      "Traceback (most recent call last):\n",
      "  File \"/home/npiel2s/miniconda3/envs/mm/lib/python3.9/threading.py\", line 980, in _bootstrap_inner\n",
      "    self.run()\n",
      "  File \"/tmp/ipykernel_38520/1002415754.py\", line 8, in run\n",
      "  File \"/tmp/ipykernel_38520/667317585.py\", line 40, in sdf_to_df\n",
      "  File \"/home/npiel2s/miniconda3/envs/mm/lib/python3.9/site-packages/rdkit/Chem/Lipinski.py\", line 78, in HeavyAtomCount\n",
      "    return mol.GetNumHeavyAtoms()\n",
      "AttributeError: 'NoneType' object has no attribute 'GetNumHeavyAtoms'\n",
      "[19:45:32] WARNING: not removing hydrogen atom without neighbors\n",
      "[19:45:32] WARNING: not removing hydrogen atom without neighbors\n",
      "[19:45:32] WARNING: not removing hydrogen atom without neighbors\n",
      "[19:46:02] WARNING: not removing hydrogen atom without neighbors\n",
      "[19:46:02] WARNING: not removing hydrogen atom without neighbors\n",
      "[19:46:02] WARNING: not removing hydrogen atom without neighbors\n",
      "[19:47:02] WARNING: not removing hydrogen atom without neighbors\n",
      "[19:48:22] WARNING: not removing hydrogen atom without neighbors\n",
      "[19:48:22] WARNING: not removing hydrogen atom without neighbors\n",
      "[19:48:22] WARNING: not removing hydrogen atom without neighbors\n",
      "[19:55:24] WARNING: not removing hydrogen atom without neighbors\n",
      "[19:55:24] WARNING: not removing hydrogen atom without neighbors\n",
      "[19:55:24] WARNING: not removing hydrogen atom without neighbors\n",
      "[19:55:25] WARNING: not removing hydrogen atom without neighbors\n",
      "[19:57:24] Explicit valence for atom # 0 N, 4, is greater than permitted\n",
      "Exception in thread Thread-73:\n",
      "Traceback (most recent call last):\n",
      "  File \"/home/npiel2s/miniconda3/envs/mm/lib/python3.9/threading.py\", line 980, in _bootstrap_inner\n",
      "    self.run()\n",
      "  File \"/tmp/ipykernel_38520/1002415754.py\", line 8, in run\n",
      "  File \"/tmp/ipykernel_38520/667317585.py\", line 40, in sdf_to_df\n",
      "  File \"/home/npiel2s/miniconda3/envs/mm/lib/python3.9/site-packages/rdkit/Chem/Lipinski.py\", line 78, in HeavyAtomCount\n",
      "    return mol.GetNumHeavyAtoms()\n",
      "AttributeError: 'NoneType' object has no attribute 'GetNumHeavyAtoms'\n"
     ]
    }
   ],
   "source": [
    "if __name__ == \"__main__\":\n",
    "    if not in_ipython():\n",
    "        root_dir = os.path.dirname(os.path.realpath(__file__))\n",
    "\n",
    "        # TRAIN\n",
    "        main()\n",
    "    else:\n",
    "        main()"
   ]
  },
  {
   "cell_type": "code",
   "execution_count": null,
   "metadata": {},
   "outputs": [],
   "source": []
  }
 ],
 "metadata": {
  "interpreter": {
   "hash": "07bca49d2aa91ba30708eb691bb51c14e8f9a0701c6e92c94ace8ce2abd85168"
  },
  "kernelspec": {
   "display_name": "Python 3 (ipykernel)",
   "language": "python",
   "name": "python3"
  },
  "language_info": {
   "codemirror_mode": {
    "name": "ipython",
    "version": 3
   },
   "file_extension": ".py",
   "mimetype": "text/x-python",
   "name": "python",
   "nbconvert_exporter": "python",
   "pygments_lexer": "ipython3",
   "version": "3.9.13"
  }
 },
 "nbformat": 4,
 "nbformat_minor": 4
}
